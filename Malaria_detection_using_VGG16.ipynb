{
  "nbformat": 4,
  "nbformat_minor": 0,
  "metadata": {
    "colab": {
      "name": "Malaria detection using VGG16.ipynb",
      "provenance": [],
      "authorship_tag": "ABX9TyOC0/BcBD9mdRAHwQ7JAya8",
      "include_colab_link": true
    },
    "kernelspec": {
      "name": "python3",
      "display_name": "Python 3"
    }
  },
  "cells": [
    {
      "cell_type": "markdown",
      "metadata": {
        "id": "view-in-github",
        "colab_type": "text"
      },
      "source": [
        "<a href=\"https://colab.research.google.com/github/AshwiniKatariya07/Deep-Learning-Projects/blob/master/Malaria_detection_using_VGG16.ipynb\" target=\"_parent\"><img src=\"https://colab.research.google.com/assets/colab-badge.svg\" alt=\"Open In Colab\"/></a>"
      ]
    },
    {
      "cell_type": "markdown",
      "metadata": {
        "id": "cE2jnjGMGMpy",
        "colab_type": "text"
      },
      "source": [
        "Creating CNN from scratch and using Transfer Learning for predicting malaria disease."
      ]
    },
    {
      "cell_type": "code",
      "metadata": {
        "id": "XTpuh1wkGkng",
        "colab_type": "code",
        "colab": {}
      },
      "source": [
        "from tensorflow.keras.layers import Input, Lambda, Dense, Flatten, Conv2D\n",
        "from tensorflow.keras.models import Model\n",
        "from tensorflow.keras.applications.vgg16 import VGG16\n",
        "from tensorflow.keras.applications.resnet50 import preprocess_input\n",
        "from tensorflow.keras.preprocessing import image\n",
        "from tensorflow.keras.preprocessing.image import ImageDataGenerator,load_img\n",
        "from tensorflow.keras.models import Sequential\n",
        "from glob import glob\n",
        "import numpy as np\n",
        "import pandas as pd\n",
        "import matplotlib.pyplot as plt"
      ],
      "execution_count": null,
      "outputs": []
    },
    {
      "cell_type": "code",
      "metadata": {
        "id": "xhAyxIhpG_S2",
        "colab_type": "code",
        "colab": {}
      },
      "source": [
        "# re-sizing image size\n",
        "image_size = [224,224]\n",
        "train_path = 'Datasets/Train'\n",
        "test_path = 'Datasets/Test'"
      ],
      "execution_count": null,
      "outputs": []
    },
    {
      "cell_type": "code",
      "metadata": {
        "id": "88HVBOpiI8Ew",
        "colab_type": "code",
        "colab": {
          "base_uri": "https://localhost:8080/",
          "height": 50
        },
        "outputId": "1eb479b4-2337-4106-ef40-c0f573fd06b7"
      },
      "source": [
        "# Import the Vgg 16 library as shown below and add preprocessing layer to the front of VGG\n",
        "# Here we will be using imagenet weights\n",
        "\n",
        "mobilnet = VGG16(input_shape=image_size + [3],  weights='imagenet', include_top=False)"
      ],
      "execution_count": null,
      "outputs": [
        {
          "output_type": "stream",
          "text": [
            "Downloading data from https://storage.googleapis.com/tensorflow/keras-applications/vgg16/vgg16_weights_tf_dim_ordering_tf_kernels_notop.h5\n",
            "58892288/58889256 [==============================] - 1s 0us/step\n"
          ],
          "name": "stdout"
        }
      ]
    },
    {
      "cell_type": "code",
      "metadata": {
        "id": "lLYACxTTJalG",
        "colab_type": "code",
        "colab": {}
      },
      "source": [
        "# don't train existing weights\n",
        "for layer in mobilnet.layers:\n",
        "  layer.trainable = False"
      ],
      "execution_count": null,
      "outputs": []
    },
    {
      "cell_type": "code",
      "metadata": {
        "id": "oYpY8tGRMwus",
        "colab_type": "code",
        "colab": {
          "base_uri": "https://localhost:8080/",
          "height": 121
        },
        "outputId": "9acfe623-3ba4-4706-f1ba-46427de88472"
      },
      "source": [
        "from google.colab import drive\n",
        "drive.mount('/content/drive')"
      ],
      "execution_count": null,
      "outputs": [
        {
          "output_type": "stream",
          "text": [
            "Go to this URL in a browser: https://accounts.google.com/o/oauth2/auth?client_id=947318989803-6bn6qk8qdgf4n4g3pfee6491hc0brc4i.apps.googleusercontent.com&redirect_uri=urn%3aietf%3awg%3aoauth%3a2.0%3aoob&response_type=code&scope=email%20https%3a%2f%2fwww.googleapis.com%2fauth%2fdocs.test%20https%3a%2f%2fwww.googleapis.com%2fauth%2fdrive%20https%3a%2f%2fwww.googleapis.com%2fauth%2fdrive.photos.readonly%20https%3a%2f%2fwww.googleapis.com%2fauth%2fpeopleapi.readonly\n",
            "\n",
            "Enter your authorization code:\n",
            "··········\n",
            "Mounted at /content/drive\n"
          ],
          "name": "stdout"
        }
      ]
    },
    {
      "cell_type": "code",
      "metadata": {
        "id": "VwNgB_qjJsob",
        "colab_type": "code",
        "colab": {}
      },
      "source": [
        "folders = glob('/content/drive/My Drive/Dataset/Dataset/Train/*')"
      ],
      "execution_count": null,
      "outputs": []
    },
    {
      "cell_type": "code",
      "metadata": {
        "id": "dJJpwuypNTFH",
        "colab_type": "code",
        "colab": {
          "base_uri": "https://localhost:8080/",
          "height": 34
        },
        "outputId": "e7852568-8193-44d6-f4c2-f77dd0312e5d"
      },
      "source": [
        "len(folders)"
      ],
      "execution_count": null,
      "outputs": [
        {
          "output_type": "execute_result",
          "data": {
            "text/plain": [
              "2"
            ]
          },
          "metadata": {
            "tags": []
          },
          "execution_count": 7
        }
      ]
    },
    {
      "cell_type": "code",
      "metadata": {
        "id": "qqh96fOeNZVp",
        "colab_type": "code",
        "colab": {}
      },
      "source": [
        "# our layers - you can add more if you want\n",
        "x = Flatten()(mobilnet.output)"
      ],
      "execution_count": null,
      "outputs": []
    },
    {
      "cell_type": "code",
      "metadata": {
        "id": "zjsS4TESNrgr",
        "colab_type": "code",
        "colab": {}
      },
      "source": [
        "prediction = Dense(len(folders), activation='softmax')(x)\n",
        "\n",
        "# create a model object\n",
        "model = Model(inputs = mobilnet.input, outputs = prediction)"
      ],
      "execution_count": null,
      "outputs": []
    },
    {
      "cell_type": "code",
      "metadata": {
        "id": "1vAvQhX-OLjs",
        "colab_type": "code",
        "colab": {
          "base_uri": "https://localhost:8080/",
          "height": 857
        },
        "outputId": "70cc4333-e068-4165-ec39-8b197bef4701"
      },
      "source": [
        "model.summary()"
      ],
      "execution_count": null,
      "outputs": [
        {
          "output_type": "stream",
          "text": [
            "Model: \"functional_1\"\n",
            "_________________________________________________________________\n",
            "Layer (type)                 Output Shape              Param #   \n",
            "=================================================================\n",
            "input_1 (InputLayer)         [(None, 224, 224, 3)]     0         \n",
            "_________________________________________________________________\n",
            "block1_conv1 (Conv2D)        (None, 224, 224, 64)      1792      \n",
            "_________________________________________________________________\n",
            "block1_conv2 (Conv2D)        (None, 224, 224, 64)      36928     \n",
            "_________________________________________________________________\n",
            "block1_pool (MaxPooling2D)   (None, 112, 112, 64)      0         \n",
            "_________________________________________________________________\n",
            "block2_conv1 (Conv2D)        (None, 112, 112, 128)     73856     \n",
            "_________________________________________________________________\n",
            "block2_conv2 (Conv2D)        (None, 112, 112, 128)     147584    \n",
            "_________________________________________________________________\n",
            "block2_pool (MaxPooling2D)   (None, 56, 56, 128)       0         \n",
            "_________________________________________________________________\n",
            "block3_conv1 (Conv2D)        (None, 56, 56, 256)       295168    \n",
            "_________________________________________________________________\n",
            "block3_conv2 (Conv2D)        (None, 56, 56, 256)       590080    \n",
            "_________________________________________________________________\n",
            "block3_conv3 (Conv2D)        (None, 56, 56, 256)       590080    \n",
            "_________________________________________________________________\n",
            "block3_pool (MaxPooling2D)   (None, 28, 28, 256)       0         \n",
            "_________________________________________________________________\n",
            "block4_conv1 (Conv2D)        (None, 28, 28, 512)       1180160   \n",
            "_________________________________________________________________\n",
            "block4_conv2 (Conv2D)        (None, 28, 28, 512)       2359808   \n",
            "_________________________________________________________________\n",
            "block4_conv3 (Conv2D)        (None, 28, 28, 512)       2359808   \n",
            "_________________________________________________________________\n",
            "block4_pool (MaxPooling2D)   (None, 14, 14, 512)       0         \n",
            "_________________________________________________________________\n",
            "block5_conv1 (Conv2D)        (None, 14, 14, 512)       2359808   \n",
            "_________________________________________________________________\n",
            "block5_conv2 (Conv2D)        (None, 14, 14, 512)       2359808   \n",
            "_________________________________________________________________\n",
            "block5_conv3 (Conv2D)        (None, 14, 14, 512)       2359808   \n",
            "_________________________________________________________________\n",
            "block5_pool (MaxPooling2D)   (None, 7, 7, 512)         0         \n",
            "_________________________________________________________________\n",
            "flatten (Flatten)            (None, 25088)             0         \n",
            "_________________________________________________________________\n",
            "dense (Dense)                (None, 2)                 50178     \n",
            "=================================================================\n",
            "Total params: 14,764,866\n",
            "Trainable params: 50,178\n",
            "Non-trainable params: 14,714,688\n",
            "_________________________________________________________________\n"
          ],
          "name": "stdout"
        }
      ]
    },
    {
      "cell_type": "code",
      "metadata": {
        "id": "KRpNzpElOO7b",
        "colab_type": "code",
        "colab": {}
      },
      "source": [
        "from tensorflow.keras.layers import MaxPooling2D"
      ],
      "execution_count": null,
      "outputs": []
    },
    {
      "cell_type": "code",
      "metadata": {
        "id": "TVzjlozy46tV",
        "colab_type": "code",
        "colab": {
          "base_uri": "https://localhost:8080/",
          "height": 454
        },
        "outputId": "c3fbf10b-2836-4e27-cbb6-f8fc71369673"
      },
      "source": [
        "# creating the model from scratch.\n",
        "model= Sequential()\n",
        "model.add(Conv2D(filters=16,kernel_size=2,padding='same',activation='relu',input_shape=(224,224,3)))\n",
        "model.add(MaxPooling2D(pool_size=2))\n",
        "model.add(Conv2D(filters=32,kernel_size=2,padding='same',activation='relu'))\n",
        "model.add(MaxPooling2D(pool_size=2))\n",
        "model.add(Conv2D(filters=64,kernel_size=2,padding='same',activation='relu'))\n",
        "model.add(MaxPooling2D(pool_size=2))\n",
        "model.add(Flatten())\n",
        "model.add(Dense(500,activation='relu'))\n",
        "model.add(Dense(2,activation='softmax'))\n",
        "model.summary()"
      ],
      "execution_count": null,
      "outputs": [
        {
          "output_type": "stream",
          "text": [
            "Model: \"sequential\"\n",
            "_________________________________________________________________\n",
            "Layer (type)                 Output Shape              Param #   \n",
            "=================================================================\n",
            "conv2d (Conv2D)              (None, 224, 224, 16)      208       \n",
            "_________________________________________________________________\n",
            "max_pooling2d (MaxPooling2D) (None, 112, 112, 16)      0         \n",
            "_________________________________________________________________\n",
            "conv2d_1 (Conv2D)            (None, 112, 112, 32)      2080      \n",
            "_________________________________________________________________\n",
            "max_pooling2d_1 (MaxPooling2 (None, 56, 56, 32)        0         \n",
            "_________________________________________________________________\n",
            "conv2d_2 (Conv2D)            (None, 56, 56, 64)        8256      \n",
            "_________________________________________________________________\n",
            "max_pooling2d_2 (MaxPooling2 (None, 28, 28, 64)        0         \n",
            "_________________________________________________________________\n",
            "flatten_1 (Flatten)          (None, 50176)             0         \n",
            "_________________________________________________________________\n",
            "dense_1 (Dense)              (None, 500)               25088500  \n",
            "_________________________________________________________________\n",
            "dense_2 (Dense)              (None, 2)                 1002      \n",
            "=================================================================\n",
            "Total params: 25,100,046\n",
            "Trainable params: 25,100,046\n",
            "Non-trainable params: 0\n",
            "_________________________________________________________________\n"
          ],
          "name": "stdout"
        }
      ]
    },
    {
      "cell_type": "code",
      "metadata": {
        "id": "xoQExr5464u4",
        "colab_type": "code",
        "colab": {}
      },
      "source": [
        "# tell the model what cost and optimization method to use\n",
        "model.compile(\n",
        "    loss='categorical_crossentropy',\n",
        "    optimizer='adam',\n",
        "    metrics=['accuracy'])"
      ],
      "execution_count": null,
      "outputs": []
    },
    {
      "cell_type": "code",
      "metadata": {
        "id": "_DT2BwtP7W5N",
        "colab_type": "code",
        "colab": {}
      },
      "source": [
        "# Use the Image Data Generator to import the images from the dataset\n",
        "from tensorflow.keras.preprocessing.image import ImageDataGenerator\n",
        "train_datagen = ImageDataGenerator(rescale = 1./255,\n",
        "                                   shear_range = 0.2,\n",
        "                                   zoom_range = 0.2,\n",
        "                                   horizontal_flip = True)\n",
        "\n",
        "test_datagen = ImageDataGenerator(rescale = 1./255)"
      ],
      "execution_count": null,
      "outputs": []
    },
    {
      "cell_type": "code",
      "metadata": {
        "id": "QT0F0vMr71lS",
        "colab_type": "code",
        "colab": {
          "base_uri": "https://localhost:8080/",
          "height": 34
        },
        "outputId": "e8b37f93-bcc0-4933-a1e2-fe3b7123f0a1"
      },
      "source": [
        "# Make sure you provide the same target size as initialied for the image size\n",
        "training_set = train_datagen.flow_from_directory('/content/drive/My Drive/Dataset/Dataset/Train',\n",
        "                                                 target_size=(224,224),\n",
        "                                                 batch_size=32,\n",
        "                                                 class_mode = 'categorical')"
      ],
      "execution_count": null,
      "outputs": [
        {
          "output_type": "stream",
          "text": [
            "Found 416 images belonging to 2 classes.\n"
          ],
          "name": "stdout"
        }
      ]
    },
    {
      "cell_type": "code",
      "metadata": {
        "id": "Tn5WffXJ9bLd",
        "colab_type": "code",
        "colab": {
          "base_uri": "https://localhost:8080/",
          "height": 34
        },
        "outputId": "9863e9aa-a1bc-42c4-f564-7581a805a97b"
      },
      "source": [
        "test_set = test_datagen.flow_from_directory('/content/drive/My Drive/Dataset/Dataset/Test',\n",
        "                                            target_size=(224,224),\n",
        "                                            batch_size=32,\n",
        "                                            class_mode='categorical')"
      ],
      "execution_count": null,
      "outputs": [
        {
          "output_type": "stream",
          "text": [
            "Found 134 images belonging to 2 classes.\n"
          ],
          "name": "stdout"
        }
      ]
    },
    {
      "cell_type": "code",
      "metadata": {
        "id": "2dqRxcdc80JX",
        "colab_type": "code",
        "colab": {
          "base_uri": "https://localhost:8080/",
          "height": 1000
        },
        "outputId": "59b80ebb-ddd6-4d49-b317-86078cbdf104"
      },
      "source": [
        "# fit the model\n",
        "result = model.fit_generator(training_set,\n",
        "                    validation_data=test_set,\n",
        "                    epochs=50,\n",
        "                    steps_per_epoch = len(training_set),\n",
        "                     validation_steps = len(test_set))"
      ],
      "execution_count": null,
      "outputs": [
        {
          "output_type": "stream",
          "text": [
            "Epoch 1/50\n",
            "13/13 [==============================] - 19s 1s/step - loss: 0.0429 - accuracy: 0.9856 - val_loss: 0.1980 - val_accuracy: 0.8881\n",
            "Epoch 2/50\n",
            "13/13 [==============================] - 19s 1s/step - loss: 0.0382 - accuracy: 0.9880 - val_loss: 0.2369 - val_accuracy: 0.9104\n",
            "Epoch 3/50\n",
            "13/13 [==============================] - 19s 1s/step - loss: 0.0245 - accuracy: 0.9928 - val_loss: 0.1505 - val_accuracy: 0.9254\n",
            "Epoch 4/50\n",
            "13/13 [==============================] - 19s 1s/step - loss: 0.0262 - accuracy: 0.9904 - val_loss: 0.1974 - val_accuracy: 0.9254\n",
            "Epoch 5/50\n",
            "13/13 [==============================] - 19s 1s/step - loss: 0.0601 - accuracy: 0.9832 - val_loss: 0.3320 - val_accuracy: 0.8507\n",
            "Epoch 6/50\n",
            "13/13 [==============================] - 19s 1s/step - loss: 0.1002 - accuracy: 0.9639 - val_loss: 0.2850 - val_accuracy: 0.8657\n",
            "Epoch 7/50\n",
            "13/13 [==============================] - 19s 1s/step - loss: 0.0943 - accuracy: 0.9639 - val_loss: 0.2085 - val_accuracy: 0.9030\n",
            "Epoch 8/50\n",
            "13/13 [==============================] - 19s 1s/step - loss: 0.0559 - accuracy: 0.9832 - val_loss: 0.2341 - val_accuracy: 0.8955\n",
            "Epoch 9/50\n",
            "13/13 [==============================] - 19s 1s/step - loss: 0.0324 - accuracy: 0.9904 - val_loss: 0.1598 - val_accuracy: 0.9254\n",
            "Epoch 10/50\n",
            "13/13 [==============================] - 19s 1s/step - loss: 0.0300 - accuracy: 0.9856 - val_loss: 0.3140 - val_accuracy: 0.8881\n",
            "Epoch 11/50\n",
            "13/13 [==============================] - 19s 1s/step - loss: 0.0516 - accuracy: 0.9808 - val_loss: 0.2024 - val_accuracy: 0.9104\n",
            "Epoch 12/50\n",
            "13/13 [==============================] - 19s 1s/step - loss: 0.0505 - accuracy: 0.9880 - val_loss: 0.1398 - val_accuracy: 0.9403\n",
            "Epoch 13/50\n",
            "13/13 [==============================] - 19s 1s/step - loss: 0.0293 - accuracy: 0.9928 - val_loss: 0.2857 - val_accuracy: 0.8955\n",
            "Epoch 14/50\n",
            "13/13 [==============================] - 19s 1s/step - loss: 0.0231 - accuracy: 0.9952 - val_loss: 0.1958 - val_accuracy: 0.9403\n",
            "Epoch 15/50\n",
            "13/13 [==============================] - 19s 1s/step - loss: 0.0126 - accuracy: 0.9976 - val_loss: 0.1415 - val_accuracy: 0.9403\n",
            "Epoch 16/50\n",
            "13/13 [==============================] - 19s 1s/step - loss: 0.0423 - accuracy: 0.9856 - val_loss: 0.5027 - val_accuracy: 0.8507\n",
            "Epoch 17/50\n",
            "13/13 [==============================] - 19s 1s/step - loss: 0.1273 - accuracy: 0.9543 - val_loss: 0.3643 - val_accuracy: 0.8582\n",
            "Epoch 18/50\n",
            "13/13 [==============================] - 19s 1s/step - loss: 0.1221 - accuracy: 0.9567 - val_loss: 0.2628 - val_accuracy: 0.8806\n",
            "Epoch 19/50\n",
            "13/13 [==============================] - 19s 1s/step - loss: 0.0744 - accuracy: 0.9688 - val_loss: 0.2393 - val_accuracy: 0.8955\n",
            "Epoch 20/50\n",
            "13/13 [==============================] - 19s 1s/step - loss: 0.0297 - accuracy: 0.9952 - val_loss: 0.1284 - val_accuracy: 0.9478\n",
            "Epoch 21/50\n",
            "13/13 [==============================] - 19s 1s/step - loss: 0.0368 - accuracy: 0.9880 - val_loss: 0.2229 - val_accuracy: 0.9030\n",
            "Epoch 22/50\n",
            "13/13 [==============================] - 19s 1s/step - loss: 0.0182 - accuracy: 0.9976 - val_loss: 0.1600 - val_accuracy: 0.9552\n",
            "Epoch 23/50\n",
            "13/13 [==============================] - 19s 1s/step - loss: 0.0059 - accuracy: 1.0000 - val_loss: 0.1830 - val_accuracy: 0.9478\n",
            "Epoch 24/50\n",
            "13/13 [==============================] - 19s 1s/step - loss: 0.0761 - accuracy: 0.9760 - val_loss: 0.3731 - val_accuracy: 0.8806\n",
            "Epoch 25/50\n",
            "13/13 [==============================] - 19s 1s/step - loss: 0.0981 - accuracy: 0.9712 - val_loss: 0.3800 - val_accuracy: 0.8657\n",
            "Epoch 26/50\n",
            "13/13 [==============================] - 19s 1s/step - loss: 0.0785 - accuracy: 0.9712 - val_loss: 0.1831 - val_accuracy: 0.9104\n",
            "Epoch 27/50\n",
            "13/13 [==============================] - 19s 1s/step - loss: 0.0291 - accuracy: 0.9928 - val_loss: 0.1594 - val_accuracy: 0.9403\n",
            "Epoch 28/50\n",
            "13/13 [==============================] - 19s 1s/step - loss: 0.0423 - accuracy: 0.9928 - val_loss: 0.2770 - val_accuracy: 0.8731\n",
            "Epoch 29/50\n",
            "13/13 [==============================] - 19s 1s/step - loss: 0.0359 - accuracy: 0.9832 - val_loss: 0.2856 - val_accuracy: 0.8955\n",
            "Epoch 30/50\n",
            "13/13 [==============================] - 19s 1s/step - loss: 0.0319 - accuracy: 0.9928 - val_loss: 0.2012 - val_accuracy: 0.9179\n",
            "Epoch 31/50\n",
            "13/13 [==============================] - 19s 1s/step - loss: 0.0111 - accuracy: 0.9952 - val_loss: 0.1542 - val_accuracy: 0.9254\n",
            "Epoch 32/50\n",
            "13/13 [==============================] - 19s 1s/step - loss: 0.0187 - accuracy: 0.9928 - val_loss: 0.1051 - val_accuracy: 0.9627\n",
            "Epoch 33/50\n",
            "13/13 [==============================] - 19s 1s/step - loss: 0.0177 - accuracy: 0.9928 - val_loss: 0.1120 - val_accuracy: 0.9627\n",
            "Epoch 34/50\n",
            "13/13 [==============================] - 19s 1s/step - loss: 0.0066 - accuracy: 1.0000 - val_loss: 0.1150 - val_accuracy: 0.9627\n",
            "Epoch 35/50\n",
            "13/13 [==============================] - 19s 1s/step - loss: 0.0088 - accuracy: 0.9976 - val_loss: 0.2031 - val_accuracy: 0.9179\n",
            "Epoch 36/50\n",
            "13/13 [==============================] - 19s 1s/step - loss: 0.0089 - accuracy: 0.9952 - val_loss: 0.1285 - val_accuracy: 0.9478\n",
            "Epoch 37/50\n",
            "13/13 [==============================] - 19s 1s/step - loss: 0.0080 - accuracy: 0.9952 - val_loss: 0.1575 - val_accuracy: 0.9701\n",
            "Epoch 38/50\n",
            "13/13 [==============================] - 19s 1s/step - loss: 0.0070 - accuracy: 0.9976 - val_loss: 0.3957 - val_accuracy: 0.8955\n",
            "Epoch 39/50\n",
            "13/13 [==============================] - 19s 1s/step - loss: 0.0101 - accuracy: 0.9976 - val_loss: 0.2296 - val_accuracy: 0.9328\n",
            "Epoch 40/50\n",
            "13/13 [==============================] - 19s 1s/step - loss: 0.0052 - accuracy: 1.0000 - val_loss: 0.1783 - val_accuracy: 0.9403\n",
            "Epoch 41/50\n",
            "13/13 [==============================] - 19s 1s/step - loss: 0.0085 - accuracy: 0.9952 - val_loss: 0.1073 - val_accuracy: 0.9627\n",
            "Epoch 42/50\n",
            "13/13 [==============================] - 19s 1s/step - loss: 0.0327 - accuracy: 0.9976 - val_loss: 0.7474 - val_accuracy: 0.8507\n",
            "Epoch 43/50\n",
            "13/13 [==============================] - 19s 1s/step - loss: 0.1848 - accuracy: 0.9375 - val_loss: 0.2476 - val_accuracy: 0.8731\n",
            "Epoch 44/50\n",
            "13/13 [==============================] - 19s 1s/step - loss: 0.1638 - accuracy: 0.9447 - val_loss: 0.3611 - val_accuracy: 0.8507\n",
            "Epoch 45/50\n",
            "13/13 [==============================] - 19s 1s/step - loss: 0.1148 - accuracy: 0.9591 - val_loss: 0.2621 - val_accuracy: 0.8806\n",
            "Epoch 46/50\n",
            "13/13 [==============================] - 19s 1s/step - loss: 0.0348 - accuracy: 0.9976 - val_loss: 0.2690 - val_accuracy: 0.9179\n",
            "Epoch 47/50\n",
            "13/13 [==============================] - 19s 1s/step - loss: 0.0188 - accuracy: 0.9952 - val_loss: 0.0811 - val_accuracy: 0.9701\n",
            "Epoch 48/50\n",
            "13/13 [==============================] - 19s 1s/step - loss: 0.1527 - accuracy: 0.9543 - val_loss: 0.9350 - val_accuracy: 0.8060\n",
            "Epoch 49/50\n",
            "13/13 [==============================] - 19s 1s/step - loss: 0.0843 - accuracy: 0.9712 - val_loss: 0.2422 - val_accuracy: 0.8955\n",
            "Epoch 50/50\n",
            "13/13 [==============================] - 19s 1s/step - loss: 0.0422 - accuracy: 0.9880 - val_loss: 0.2072 - val_accuracy: 0.9104\n"
          ],
          "name": "stdout"
        }
      ]
    },
    {
      "cell_type": "code",
      "metadata": {
        "id": "cZ0pTmSe982u",
        "colab_type": "code",
        "colab": {
          "base_uri": "https://localhost:8080/",
          "height": 530
        },
        "outputId": "380d52e8-e24e-4f1d-b34f-6485d76abc29"
      },
      "source": [
        "#plot the loss\n",
        "plt.plot(result.history['loss'], label='train loss')\n",
        "plt.plot(result.history['val_loss'], label='val loss')\n",
        "plt.legend()\n",
        "plt.show()\n",
        "plt.savefig('LossVal_loss')\n",
        "\n",
        "# plot the accuracy\n",
        "plt.plot(result.history['accuracy'], label='train acc')\n",
        "plt.plot(result.history['val_accuracy'], label='val acc')\n",
        "plt.legend()\n",
        "plt.show()\n",
        "plt.savefig('AccVal_acc')"
      ],
      "execution_count": null,
      "outputs": [
        {
          "output_type": "display_data",
          "data": {
            "image/png": "[encoded data removed]",
            "text/plain": [
              "<Figure size 432x288 with 1 Axes>"
            ]
          },
          "metadata": {
            "tags": [],
            "needs_background": "light"
          }
        },
        {
          "output_type": "display_data",
          "data": {
            "image/png": "[encoded data removed]",
            "text/plain": [
              "<Figure size 432x288 with 1 Axes>"
            ]
          },
          "metadata": {
            "tags": [],
            "needs_background": "light"
          }
        },
        {
          "output_type": "display_data",
          "data": {
            "text/plain": [
              "<Figure size 432x288 with 0 Axes>"
            ]
          },
          "metadata": {
            "tags": []
          }
        }
      ]
    },
    {
      "cell_type": "code",
      "metadata": {
        "id": "e9sTAyuEC_in",
        "colab_type": "code",
        "colab": {}
      },
      "source": [
        "ypred = model.predict(test_set)"
      ],
      "execution_count": null,
      "outputs": []
    },
    {
      "cell_type": "code",
      "metadata": {
        "id": "cNTwceOOJk_n",
        "colab_type": "code",
        "colab": {
          "base_uri": "https://localhost:8080/",
          "height": 1000
        },
        "outputId": "cd7672b3-4188-47f6-fda5-0c65de283e79"
      },
      "source": [
        "ypred"
      ],
      "execution_count": null,
      "outputs": [
        {
          "output_type": "execute_result",
          "data": {
            "text/plain": [
              "array([[1.61936216e-03, 9.98380661e-01],\n",
              "       [1.00000000e+00, 4.86846208e-32],\n",
              "       [9.99945402e-01, 5.45807925e-05],\n",
              "       [9.99999762e-01, 2.85676919e-07],\n",
              "       [2.36094762e-02, 9.76390481e-01],\n",
              "       [1.00000000e+00, 0.00000000e+00],\n",
              "       [1.00000000e+00, 1.24966701e-16],\n",
              "       [5.46011375e-03, 9.94539917e-01],\n",
              "       [6.54423516e-03, 9.93455708e-01],\n",
              "       [1.00000000e+00, 3.83815729e-10],\n",
              "       [1.00000000e+00, 6.73898804e-22],\n",
              "       [1.00000000e+00, 2.30862794e-14],\n",
              "       [5.19282650e-04, 9.99480784e-01],\n",
              "       [4.02821694e-03, 9.95971739e-01],\n",
              "       [8.80591385e-03, 9.91194069e-01],\n",
              "       [1.00000000e+00, 2.07683377e-19],\n",
              "       [2.03223340e-03, 9.97967780e-01],\n",
              "       [1.00000000e+00, 1.74593169e-13],\n",
              "       [9.99999762e-01, 1.83737768e-07],\n",
              "       [1.13223426e-01, 8.86776507e-01],\n",
              "       [1.00000000e+00, 2.44293252e-09],\n",
              "       [1.00000000e+00, 2.71216360e-09],\n",
              "       [2.17404729e-03, 9.97825921e-01],\n",
              "       [4.38689440e-02, 9.56131041e-01],\n",
              "       [1.11620885e-03, 9.98883784e-01],\n",
              "       [1.00000000e+00, 6.87966360e-38],\n",
              "       [9.47613776e-01, 5.23862056e-02],\n",
              "       [1.00000000e+00, 5.55254237e-16],\n",
              "       [5.34859160e-03, 9.94651496e-01],\n",
              "       [1.00000000e+00, 7.99598771e-18],\n",
              "       [4.15056534e-02, 9.58494306e-01],\n",
              "       [1.00000000e+00, 8.48303000e-18],\n",
              "       [1.00000000e+00, 6.51500474e-14],\n",
              "       [1.69679783e-02, 9.83031988e-01],\n",
              "       [1.00000000e+00, 2.23014901e-12],\n",
              "       [1.07149547e-03, 9.98928487e-01],\n",
              "       [1.00000000e+00, 1.60049654e-23],\n",
              "       [1.00000000e+00, 7.73059995e-20],\n",
              "       [2.97231949e-03, 9.97027695e-01],\n",
              "       [9.99989510e-01, 1.05091585e-05],\n",
              "       [9.99999762e-01, 2.16563109e-07],\n",
              "       [1.00000000e+00, 5.27645021e-08],\n",
              "       [1.00000000e+00, 6.74680218e-16],\n",
              "       [5.21123363e-03, 9.94788766e-01],\n",
              "       [3.92922107e-03, 9.96070743e-01],\n",
              "       [1.00000000e+00, 1.47359866e-29],\n",
              "       [9.98081446e-01, 1.91850320e-03],\n",
              "       [4.16642614e-03, 9.95833516e-01],\n",
              "       [1.00000000e+00, 4.86328795e-15],\n",
              "       [4.86507751e-02, 9.51349199e-01],\n",
              "       [1.00000000e+00, 3.96975931e-20],\n",
              "       [1.00000000e+00, 5.99515663e-13],\n",
              "       [6.34130001e-01, 3.65869939e-01],\n",
              "       [1.43271056e-03, 9.98567224e-01],\n",
              "       [1.00000000e+00, 1.33071715e-36],\n",
              "       [9.99999762e-01, 1.83512384e-07],\n",
              "       [1.00000000e+00, 4.88713270e-29],\n",
              "       [2.15412327e-03, 9.97845888e-01],\n",
              "       [1.00000000e+00, 2.30476466e-18],\n",
              "       [5.95099106e-02, 9.40490067e-01],\n",
              "       [1.00000000e+00, 4.96923737e-14],\n",
              "       [1.00000000e+00, 2.81802742e-31],\n",
              "       [1.00000000e+00, 3.49107140e-25],\n",
              "       [3.50268409e-02, 9.64973152e-01],\n",
              "       [1.00000000e+00, 6.34018942e-15],\n",
              "       [4.38900571e-03, 9.95611012e-01],\n",
              "       [5.03459945e-02, 9.49653983e-01],\n",
              "       [2.65198830e-03, 9.97347951e-01],\n",
              "       [1.94048226e-01, 8.05951774e-01],\n",
              "       [4.69265312e-01, 5.30734718e-01],\n",
              "       [9.99996901e-01, 3.12200950e-06],\n",
              "       [4.99379029e-03, 9.95006204e-01],\n",
              "       [3.17854225e-03, 9.96821404e-01],\n",
              "       [9.99999762e-01, 1.82513872e-07],\n",
              "       [2.64382199e-03, 9.97356176e-01],\n",
              "       [1.72913279e-02, 9.82708693e-01],\n",
              "       [1.00000000e+00, 7.09239525e-14],\n",
              "       [1.00000000e+00, 4.08607577e-23],\n",
              "       [1.00000000e+00, 3.86978982e-09],\n",
              "       [1.00000000e+00, 2.82846102e-25],\n",
              "       [4.73569393e-01, 5.26430607e-01],\n",
              "       [1.09371636e-03, 9.98906255e-01],\n",
              "       [8.21432285e-03, 9.91785705e-01],\n",
              "       [1.55525446e-01, 8.44474554e-01],\n",
              "       [1.44422194e-02, 9.85557854e-01],\n",
              "       [1.00000000e+00, 4.12333118e-13],\n",
              "       [7.06138462e-02, 9.29386199e-01],\n",
              "       [1.00000000e+00, 1.21359034e-10],\n",
              "       [1.00000000e+00, 7.10905012e-15],\n",
              "       [1.00000000e+00, 4.71867996e-11],\n",
              "       [1.00000000e+00, 1.89115101e-35],\n",
              "       [1.00000000e+00, 8.28321922e-14],\n",
              "       [8.28762352e-03, 9.91712332e-01],\n",
              "       [1.00000000e+00, 4.39158260e-17],\n",
              "       [1.10295378e-02, 9.88970518e-01],\n",
              "       [9.62822020e-01, 3.71779464e-02],\n",
              "       [3.46632279e-03, 9.96533632e-01],\n",
              "       [2.24303026e-02, 9.77569759e-01],\n",
              "       [1.00000000e+00, 4.75803716e-08],\n",
              "       [1.00000000e+00, 4.39139454e-11],\n",
              "       [2.85173045e-03, 9.97148335e-01],\n",
              "       [1.00000000e+00, 9.87484988e-27],\n",
              "       [1.00000000e+00, 3.29331229e-09],\n",
              "       [9.92225949e-04, 9.99007761e-01],\n",
              "       [9.68840182e-01, 3.11598200e-02],\n",
              "       [8.68565381e-01, 1.31434590e-01],\n",
              "       [1.00000000e+00, 3.19104056e-15],\n",
              "       [1.00000000e+00, 4.43084060e-17],\n",
              "       [9.09809768e-01, 9.01902616e-02],\n",
              "       [1.00000000e+00, 1.81965554e-13],\n",
              "       [1.00000000e+00, 0.00000000e+00],\n",
              "       [8.67986858e-01, 1.32013112e-01],\n",
              "       [1.00000000e+00, 3.44353602e-17],\n",
              "       [1.00000000e+00, 1.32643347e-30],\n",
              "       [1.36919627e-02, 9.86308038e-01],\n",
              "       [9.99999762e-01, 2.68507108e-07],\n",
              "       [4.12582158e-04, 9.99587476e-01],\n",
              "       [1.00000000e+00, 3.70766706e-21],\n",
              "       [1.00000000e+00, 1.02813651e-08],\n",
              "       [1.00000000e+00, 1.34732954e-11],\n",
              "       [1.00000000e+00, 7.19884059e-13],\n",
              "       [2.96122371e-03, 9.97038841e-01],\n",
              "       [9.99998450e-01, 1.53300823e-06],\n",
              "       [1.00000000e+00, 8.34399494e-11],\n",
              "       [1.50679871e-01, 8.49320173e-01],\n",
              "       [1.00000000e+00, 3.41715776e-08],\n",
              "       [2.26891458e-01, 7.73108542e-01],\n",
              "       [1.38249854e-03, 9.98617530e-01],\n",
              "       [1.00000000e+00, 3.46909162e-15],\n",
              "       [9.39747810e-01, 6.02521710e-02],\n",
              "       [4.62867051e-01, 5.37132978e-01],\n",
              "       [1.00000000e+00, 4.40155423e-09],\n",
              "       [1.87966938e-03, 9.98120248e-01],\n",
              "       [9.76154357e-02, 9.02384639e-01]], dtype=float32)"
            ]
          },
          "metadata": {
            "tags": []
          },
          "execution_count": 26
        }
      ]
    },
    {
      "cell_type": "code",
      "metadata": {
        "id": "CjZylUtmJmty",
        "colab_type": "code",
        "colab": {}
      },
      "source": [
        "import numpy as np\n",
        "pred = np.argmax(ypred,axis=1)"
      ],
      "execution_count": null,
      "outputs": []
    },
    {
      "cell_type": "code",
      "metadata": {
        "id": "Lwa_f2PiJ0d5",
        "colab_type": "code",
        "colab": {
          "base_uri": "https://localhost:8080/",
          "height": 134
        },
        "outputId": "b412f815-8af5-431e-a51c-3a55236827da"
      },
      "source": [
        "pred"
      ],
      "execution_count": null,
      "outputs": [
        {
          "output_type": "execute_result",
          "data": {
            "text/plain": [
              "array([1, 0, 0, 0, 1, 0, 0, 1, 1, 0, 0, 0, 1, 1, 1, 0, 1, 0, 0, 1, 0, 0,\n",
              "       1, 1, 1, 0, 0, 0, 1, 0, 1, 0, 0, 1, 0, 1, 0, 0, 1, 0, 0, 0, 0, 1,\n",
              "       1, 0, 0, 1, 0, 1, 0, 0, 0, 1, 0, 0, 0, 1, 0, 1, 0, 0, 0, 1, 0, 1,\n",
              "       1, 1, 1, 1, 0, 1, 1, 0, 1, 1, 0, 0, 0, 0, 1, 1, 1, 1, 1, 0, 1, 0,\n",
              "       0, 0, 0, 0, 1, 0, 1, 0, 1, 1, 0, 0, 1, 0, 0, 1, 0, 0, 0, 0, 0, 0,\n",
              "       0, 0, 0, 0, 1, 0, 1, 0, 0, 0, 0, 1, 0, 0, 1, 0, 1, 1, 0, 0, 1, 0,\n",
              "       1, 1])"
            ]
          },
          "metadata": {
            "tags": []
          },
          "execution_count": 28
        }
      ]
    },
    {
      "cell_type": "code",
      "metadata": {
        "id": "fPMT6qelJ9PX",
        "colab_type": "code",
        "colab": {}
      },
      "source": [
        ""
      ],
      "execution_count": null,
      "outputs": []
    }
  ]
}