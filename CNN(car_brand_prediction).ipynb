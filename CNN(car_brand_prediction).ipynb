{
  "nbformat": 4,
  "nbformat_minor": 0,
  "metadata": {
    "colab": {
      "name": "CNN(car brand prediction).ipynb",
      "provenance": []
    },
    "kernelspec": {
      "name": "python3",
      "display_name": "Python 3"
    }
  },
  "cells": [
    {
      "cell_type": "markdown",
      "metadata": {
        "id": "tUSF32vt5NRj",
        "colab_type": "text"
      },
      "source": [
        "## **Transfer learning VGG 16 and VGG 19 using keras **"
      ]
    },
    {
      "cell_type": "code",
      "metadata": {
        "id": "PXf8AYRi5kVT",
        "colab_type": "code",
        "colab": {}
      },
      "source": [
        "# importing necessary libraries.\n",
        "from tensorflow.keras.layers import Input, Dense, Lambda, Flatten\n",
        "from tensorflow.keras.models import Model\n",
        "from tensorflow.keras.applications.resnet50 import ResNet50\n",
        "from tensorflow.keras.applications.resnet50 import preprocess_input\n",
        "from tensorflow.keras.preprocessing import image\n",
        "from tensorflow.keras.preprocessing.image import ImageDataGenerator,load_img\n",
        "from tensorflow.keras.models import Sequential\n",
        "import numpy as np\n",
        "from glob import glob\n",
        "import matplotlib.pyplot as plt\n"
      ],
      "execution_count": null,
      "outputs": []
    },
    {
      "cell_type": "code",
      "metadata": {
        "id": "pjPJTnhX515b",
        "colab_type": "code",
        "colab": {}
      },
      "source": [
        "# re-sizing images.\n",
        "image_size = [224,224]\n",
        "train_path ='Datasets/Train'\n",
        "valid_path = 'Datasets/Test'"
      ],
      "execution_count": null,
      "outputs": []
    },
    {
      "cell_type": "code",
      "metadata": {
        "id": "IBN02mVq8G4J",
        "colab_type": "code",
        "colab": {
          "base_uri": "https://localhost:8080/",
          "height": 35
        },
        "outputId": "5f3f12c2-56fb-43cd-c276-58087ac017e3"
      },
      "source": [
        "train_path"
      ],
      "execution_count": null,
      "outputs": [
        {
          "output_type": "execute_result",
          "data": {
            "application/vnd.google.colaboratory.intrinsic+json": {
              "type": "string"
            },
            "text/plain": [
              "'Datasets/Train'"
            ]
          },
          "metadata": {
            "tags": []
          },
          "execution_count": 20
        }
      ]
    },
    {
      "cell_type": "code",
      "metadata": {
        "id": "F6PANHu78OH1",
        "colab_type": "code",
        "colab": {
          "base_uri": "https://localhost:8080/",
          "height": 50
        },
        "outputId": "8a938a89-e490-43db-ff25-95a4109b2d03"
      },
      "source": [
        "# Import the Rasnet 50 library as shown below and add preprocessing layer to the front of rasnet\n",
        "# Here we will be using imagenet weights\n",
        "#include_top will be false because we are going to change the first and last layer.\n",
        "\n",
        "rasnet = ResNet50(input_shape=image_size +[3], weights='imagenet', include_top=False)"
      ],
      "execution_count": null,
      "outputs": [
        {
          "output_type": "stream",
          "text": [
            "Downloading data from https://storage.googleapis.com/tensorflow/keras-applications/resnet/resnet50_weights_tf_dim_ordering_tf_kernels_notop.h5\n",
            "94773248/94765736 [==============================] - 1s 0us/step\n"
          ],
          "name": "stdout"
        }
      ]
    },
    {
      "cell_type": "code",
      "metadata": {
        "id": "aRuW50UG8761",
        "colab_type": "code",
        "colab": {}
      },
      "source": [
        "# we are not going to use existing weights.\n",
        "for layer in rasnet.layers:\n",
        "  layer.trainable  = False"
      ],
      "execution_count": null,
      "outputs": []
    },
    {
      "cell_type": "code",
      "metadata": {
        "id": "r3FVPjg8GK8Y",
        "colab_type": "code",
        "colab": {
          "base_uri": "https://localhost:8080/",
          "height": 121
        },
        "outputId": "cbfc467e-f29c-4302-f851-1d4c2ce56cad"
      },
      "source": [
        "from google.colab import drive\n",
        "drive.mount('/content/drive')"
      ],
      "execution_count": null,
      "outputs": [
        {
          "output_type": "stream",
          "text": [
            "Go to this URL in a browser: https://accounts.google.com/o/oauth2/auth?client_id=947318989803-6bn6qk8qdgf4n4g3pfee6491hc0brc4i.apps.googleusercontent.com&redirect_uri=urn%3aietf%3awg%3aoauth%3a2.0%3aoob&response_type=code&scope=email%20https%3a%2f%2fwww.googleapis.com%2fauth%2fdocs.test%20https%3a%2f%2fwww.googleapis.com%2fauth%2fdrive%20https%3a%2f%2fwww.googleapis.com%2fauth%2fdrive.photos.readonly%20https%3a%2f%2fwww.googleapis.com%2fauth%2fpeopleapi.readonly\n",
            "\n",
            "Enter your authorization code:\n",
            "··········\n",
            "Mounted at /content/drive\n"
          ],
          "name": "stdout"
        }
      ]
    },
    {
      "cell_type": "code",
      "metadata": {
        "id": "PNNUMNkg9xit",
        "colab_type": "code",
        "colab": {}
      },
      "source": [
        "# useful for getting number of output classes\n",
        "folders = glob('/content/drive/My Drive/Datasets/Train/*')"
      ],
      "execution_count": 36,
      "outputs": []
    },
    {
      "cell_type": "code",
      "metadata": {
        "id": "4_ASrDVvD3jt",
        "colab_type": "code",
        "colab": {
          "base_uri": "https://localhost:8080/",
          "height": 34
        },
        "outputId": "cb209369-e40b-443b-a39e-1ab7ddc65030"
      },
      "source": [
        "len(folders)"
      ],
      "execution_count": 37,
      "outputs": [
        {
          "output_type": "execute_result",
          "data": {
            "text/plain": [
              "3"
            ]
          },
          "metadata": {
            "tags": []
          },
          "execution_count": 37
        }
      ]
    },
    {
      "cell_type": "code",
      "metadata": {
        "id": "-GJvZUw1-hcc",
        "colab_type": "code",
        "colab": {}
      },
      "source": [
        "#Flattening is the process of converting all the resultant 2 dimensional arrays into a single long continuous linear vector.\n",
        "# This is probably the last layer.  \n",
        "\n",
        "x = Flatten()(rasnet.output)"
      ],
      "execution_count": 38,
      "outputs": []
    },
    {
      "cell_type": "code",
      "metadata": {
        "id": "wN3kULTBBU5t",
        "colab_type": "code",
        "colab": {}
      },
      "source": [
        "# A dense layer is just a regular layer of neurons in a neural network. Each neuron recieves input from all \n",
        "# the neurons in the previous layer, thus densely connected.\n",
        "\n",
        "prediction = Dense(len(folders), activation='softmax')(x)\n",
        "\n",
        "# create a model object\n",
        "model = Model(inputs = rasnet.input, outputs = prediction)"
      ],
      "execution_count": 39,
      "outputs": []
    },
    {
      "cell_type": "code",
      "metadata": {
        "id": "uIQiGylXC21y",
        "colab_type": "code",
        "colab": {
          "base_uri": "https://localhost:8080/",
          "height": 1000
        },
        "outputId": "4dee9f1d-dd9c-46d5-db6c-2ee6cc458c7e"
      },
      "source": [
        "# view the structure of the model\n",
        "model.summary()"
      ],
      "execution_count": 40,
      "outputs": [
        {
          "output_type": "stream",
          "text": [
            "Model: \"model_1\"\n",
            "__________________________________________________________________________________________________\n",
            "Layer (type)                    Output Shape         Param #     Connected to                     \n",
            "==================================================================================================\n",
            "input_1 (InputLayer)            [(None, 224, 224, 3) 0                                            \n",
            "__________________________________________________________________________________________________\n",
            "conv1_pad (ZeroPadding2D)       (None, 230, 230, 3)  0           input_1[0][0]                    \n",
            "__________________________________________________________________________________________________\n",
            "conv1_conv (Conv2D)             (None, 112, 112, 64) 9472        conv1_pad[0][0]                  \n",
            "__________________________________________________________________________________________________\n",
            "conv1_bn (BatchNormalization)   (None, 112, 112, 64) 256         conv1_conv[0][0]                 \n",
            "__________________________________________________________________________________________________\n",
            "conv1_relu (Activation)         (None, 112, 112, 64) 0           conv1_bn[0][0]                   \n",
            "__________________________________________________________________________________________________\n",
            "pool1_pad (ZeroPadding2D)       (None, 114, 114, 64) 0           conv1_relu[0][0]                 \n",
            "__________________________________________________________________________________________________\n",
            "pool1_pool (MaxPooling2D)       (None, 56, 56, 64)   0           pool1_pad[0][0]                  \n",
            "__________________________________________________________________________________________________\n",
            "conv2_block1_1_conv (Conv2D)    (None, 56, 56, 64)   4160        pool1_pool[0][0]                 \n",
            "__________________________________________________________________________________________________\n",
            "conv2_block1_1_bn (BatchNormali (None, 56, 56, 64)   256         conv2_block1_1_conv[0][0]        \n",
            "__________________________________________________________________________________________________\n",
            "conv2_block1_1_relu (Activation (None, 56, 56, 64)   0           conv2_block1_1_bn[0][0]          \n",
            "__________________________________________________________________________________________________\n",
            "conv2_block1_2_conv (Conv2D)    (None, 56, 56, 64)   36928       conv2_block1_1_relu[0][0]        \n",
            "__________________________________________________________________________________________________\n",
            "conv2_block1_2_bn (BatchNormali (None, 56, 56, 64)   256         conv2_block1_2_conv[0][0]        \n",
            "__________________________________________________________________________________________________\n",
            "conv2_block1_2_relu (Activation (None, 56, 56, 64)   0           conv2_block1_2_bn[0][0]          \n",
            "__________________________________________________________________________________________________\n",
            "conv2_block1_0_conv (Conv2D)    (None, 56, 56, 256)  16640       pool1_pool[0][0]                 \n",
            "__________________________________________________________________________________________________\n",
            "conv2_block1_3_conv (Conv2D)    (None, 56, 56, 256)  16640       conv2_block1_2_relu[0][0]        \n",
            "__________________________________________________________________________________________________\n",
            "conv2_block1_0_bn (BatchNormali (None, 56, 56, 256)  1024        conv2_block1_0_conv[0][0]        \n",
            "__________________________________________________________________________________________________\n",
            "conv2_block1_3_bn (BatchNormali (None, 56, 56, 256)  1024        conv2_block1_3_conv[0][0]        \n",
            "__________________________________________________________________________________________________\n",
            "conv2_block1_add (Add)          (None, 56, 56, 256)  0           conv2_block1_0_bn[0][0]          \n",
            "                                                                 conv2_block1_3_bn[0][0]          \n",
            "__________________________________________________________________________________________________\n",
            "conv2_block1_out (Activation)   (None, 56, 56, 256)  0           conv2_block1_add[0][0]           \n",
            "__________________________________________________________________________________________________\n",
            "conv2_block2_1_conv (Conv2D)    (None, 56, 56, 64)   16448       conv2_block1_out[0][0]           \n",
            "__________________________________________________________________________________________________\n",
            "conv2_block2_1_bn (BatchNormali (None, 56, 56, 64)   256         conv2_block2_1_conv[0][0]        \n",
            "__________________________________________________________________________________________________\n",
            "conv2_block2_1_relu (Activation (None, 56, 56, 64)   0           conv2_block2_1_bn[0][0]          \n",
            "__________________________________________________________________________________________________\n",
            "conv2_block2_2_conv (Conv2D)    (None, 56, 56, 64)   36928       conv2_block2_1_relu[0][0]        \n",
            "__________________________________________________________________________________________________\n",
            "conv2_block2_2_bn (BatchNormali (None, 56, 56, 64)   256         conv2_block2_2_conv[0][0]        \n",
            "__________________________________________________________________________________________________\n",
            "conv2_block2_2_relu (Activation (None, 56, 56, 64)   0           conv2_block2_2_bn[0][0]          \n",
            "__________________________________________________________________________________________________\n",
            "conv2_block2_3_conv (Conv2D)    (None, 56, 56, 256)  16640       conv2_block2_2_relu[0][0]        \n",
            "__________________________________________________________________________________________________\n",
            "conv2_block2_3_bn (BatchNormali (None, 56, 56, 256)  1024        conv2_block2_3_conv[0][0]        \n",
            "__________________________________________________________________________________________________\n",
            "conv2_block2_add (Add)          (None, 56, 56, 256)  0           conv2_block1_out[0][0]           \n",
            "                                                                 conv2_block2_3_bn[0][0]          \n",
            "__________________________________________________________________________________________________\n",
            "conv2_block2_out (Activation)   (None, 56, 56, 256)  0           conv2_block2_add[0][0]           \n",
            "__________________________________________________________________________________________________\n",
            "conv2_block3_1_conv (Conv2D)    (None, 56, 56, 64)   16448       conv2_block2_out[0][0]           \n",
            "__________________________________________________________________________________________________\n",
            "conv2_block3_1_bn (BatchNormali (None, 56, 56, 64)   256         conv2_block3_1_conv[0][0]        \n",
            "__________________________________________________________________________________________________\n",
            "conv2_block3_1_relu (Activation (None, 56, 56, 64)   0           conv2_block3_1_bn[0][0]          \n",
            "__________________________________________________________________________________________________\n",
            "conv2_block3_2_conv (Conv2D)    (None, 56, 56, 64)   36928       conv2_block3_1_relu[0][0]        \n",
            "__________________________________________________________________________________________________\n",
            "conv2_block3_2_bn (BatchNormali (None, 56, 56, 64)   256         conv2_block3_2_conv[0][0]        \n",
            "__________________________________________________________________________________________________\n",
            "conv2_block3_2_relu (Activation (None, 56, 56, 64)   0           conv2_block3_2_bn[0][0]          \n",
            "__________________________________________________________________________________________________\n",
            "conv2_block3_3_conv (Conv2D)    (None, 56, 56, 256)  16640       conv2_block3_2_relu[0][0]        \n",
            "__________________________________________________________________________________________________\n",
            "conv2_block3_3_bn (BatchNormali (None, 56, 56, 256)  1024        conv2_block3_3_conv[0][0]        \n",
            "__________________________________________________________________________________________________\n",
            "conv2_block3_add (Add)          (None, 56, 56, 256)  0           conv2_block2_out[0][0]           \n",
            "                                                                 conv2_block3_3_bn[0][0]          \n",
            "__________________________________________________________________________________________________\n",
            "conv2_block3_out (Activation)   (None, 56, 56, 256)  0           conv2_block3_add[0][0]           \n",
            "__________________________________________________________________________________________________\n",
            "conv3_block1_1_conv (Conv2D)    (None, 28, 28, 128)  32896       conv2_block3_out[0][0]           \n",
            "__________________________________________________________________________________________________\n",
            "conv3_block1_1_bn (BatchNormali (None, 28, 28, 128)  512         conv3_block1_1_conv[0][0]        \n",
            "__________________________________________________________________________________________________\n",
            "conv3_block1_1_relu (Activation (None, 28, 28, 128)  0           conv3_block1_1_bn[0][0]          \n",
            "__________________________________________________________________________________________________\n",
            "conv3_block1_2_conv (Conv2D)    (None, 28, 28, 128)  147584      conv3_block1_1_relu[0][0]        \n",
            "__________________________________________________________________________________________________\n",
            "conv3_block1_2_bn (BatchNormali (None, 28, 28, 128)  512         conv3_block1_2_conv[0][0]        \n",
            "__________________________________________________________________________________________________\n",
            "conv3_block1_2_relu (Activation (None, 28, 28, 128)  0           conv3_block1_2_bn[0][0]          \n",
            "__________________________________________________________________________________________________\n",
            "conv3_block1_0_conv (Conv2D)    (None, 28, 28, 512)  131584      conv2_block3_out[0][0]           \n",
            "__________________________________________________________________________________________________\n",
            "conv3_block1_3_conv (Conv2D)    (None, 28, 28, 512)  66048       conv3_block1_2_relu[0][0]        \n",
            "__________________________________________________________________________________________________\n",
            "conv3_block1_0_bn (BatchNormali (None, 28, 28, 512)  2048        conv3_block1_0_conv[0][0]        \n",
            "__________________________________________________________________________________________________\n",
            "conv3_block1_3_bn (BatchNormali (None, 28, 28, 512)  2048        conv3_block1_3_conv[0][0]        \n",
            "__________________________________________________________________________________________________\n",
            "conv3_block1_add (Add)          (None, 28, 28, 512)  0           conv3_block1_0_bn[0][0]          \n",
            "                                                                 conv3_block1_3_bn[0][0]          \n",
            "__________________________________________________________________________________________________\n",
            "conv3_block1_out (Activation)   (None, 28, 28, 512)  0           conv3_block1_add[0][0]           \n",
            "__________________________________________________________________________________________________\n",
            "conv3_block2_1_conv (Conv2D)    (None, 28, 28, 128)  65664       conv3_block1_out[0][0]           \n",
            "__________________________________________________________________________________________________\n",
            "conv3_block2_1_bn (BatchNormali (None, 28, 28, 128)  512         conv3_block2_1_conv[0][0]        \n",
            "__________________________________________________________________________________________________\n",
            "conv3_block2_1_relu (Activation (None, 28, 28, 128)  0           conv3_block2_1_bn[0][0]          \n",
            "__________________________________________________________________________________________________\n",
            "conv3_block2_2_conv (Conv2D)    (None, 28, 28, 128)  147584      conv3_block2_1_relu[0][0]        \n",
            "__________________________________________________________________________________________________\n",
            "conv3_block2_2_bn (BatchNormali (None, 28, 28, 128)  512         conv3_block2_2_conv[0][0]        \n",
            "__________________________________________________________________________________________________\n",
            "conv3_block2_2_relu (Activation (None, 28, 28, 128)  0           conv3_block2_2_bn[0][0]          \n",
            "__________________________________________________________________________________________________\n",
            "conv3_block2_3_conv (Conv2D)    (None, 28, 28, 512)  66048       conv3_block2_2_relu[0][0]        \n",
            "__________________________________________________________________________________________________\n",
            "conv3_block2_3_bn (BatchNormali (None, 28, 28, 512)  2048        conv3_block2_3_conv[0][0]        \n",
            "__________________________________________________________________________________________________\n",
            "conv3_block2_add (Add)          (None, 28, 28, 512)  0           conv3_block1_out[0][0]           \n",
            "                                                                 conv3_block2_3_bn[0][0]          \n",
            "__________________________________________________________________________________________________\n",
            "conv3_block2_out (Activation)   (None, 28, 28, 512)  0           conv3_block2_add[0][0]           \n",
            "__________________________________________________________________________________________________\n",
            "conv3_block3_1_conv (Conv2D)    (None, 28, 28, 128)  65664       conv3_block2_out[0][0]           \n",
            "__________________________________________________________________________________________________\n",
            "conv3_block3_1_bn (BatchNormali (None, 28, 28, 128)  512         conv3_block3_1_conv[0][0]        \n",
            "__________________________________________________________________________________________________\n",
            "conv3_block3_1_relu (Activation (None, 28, 28, 128)  0           conv3_block3_1_bn[0][0]          \n",
            "__________________________________________________________________________________________________\n",
            "conv3_block3_2_conv (Conv2D)    (None, 28, 28, 128)  147584      conv3_block3_1_relu[0][0]        \n",
            "__________________________________________________________________________________________________\n",
            "conv3_block3_2_bn (BatchNormali (None, 28, 28, 128)  512         conv3_block3_2_conv[0][0]        \n",
            "__________________________________________________________________________________________________\n",
            "conv3_block3_2_relu (Activation (None, 28, 28, 128)  0           conv3_block3_2_bn[0][0]          \n",
            "__________________________________________________________________________________________________\n",
            "conv3_block3_3_conv (Conv2D)    (None, 28, 28, 512)  66048       conv3_block3_2_relu[0][0]        \n",
            "__________________________________________________________________________________________________\n",
            "conv3_block3_3_bn (BatchNormali (None, 28, 28, 512)  2048        conv3_block3_3_conv[0][0]        \n",
            "__________________________________________________________________________________________________\n",
            "conv3_block3_add (Add)          (None, 28, 28, 512)  0           conv3_block2_out[0][0]           \n",
            "                                                                 conv3_block3_3_bn[0][0]          \n",
            "__________________________________________________________________________________________________\n",
            "conv3_block3_out (Activation)   (None, 28, 28, 512)  0           conv3_block3_add[0][0]           \n",
            "__________________________________________________________________________________________________\n",
            "conv3_block4_1_conv (Conv2D)    (None, 28, 28, 128)  65664       conv3_block3_out[0][0]           \n",
            "__________________________________________________________________________________________________\n",
            "conv3_block4_1_bn (BatchNormali (None, 28, 28, 128)  512         conv3_block4_1_conv[0][0]        \n",
            "__________________________________________________________________________________________________\n",
            "conv3_block4_1_relu (Activation (None, 28, 28, 128)  0           conv3_block4_1_bn[0][0]          \n",
            "__________________________________________________________________________________________________\n",
            "conv3_block4_2_conv (Conv2D)    (None, 28, 28, 128)  147584      conv3_block4_1_relu[0][0]        \n",
            "__________________________________________________________________________________________________\n",
            "conv3_block4_2_bn (BatchNormali (None, 28, 28, 128)  512         conv3_block4_2_conv[0][0]        \n",
            "__________________________________________________________________________________________________\n",
            "conv3_block4_2_relu (Activation (None, 28, 28, 128)  0           conv3_block4_2_bn[0][0]          \n",
            "__________________________________________________________________________________________________\n",
            "conv3_block4_3_conv (Conv2D)    (None, 28, 28, 512)  66048       conv3_block4_2_relu[0][0]        \n",
            "__________________________________________________________________________________________________\n",
            "conv3_block4_3_bn (BatchNormali (None, 28, 28, 512)  2048        conv3_block4_3_conv[0][0]        \n",
            "__________________________________________________________________________________________________\n",
            "conv3_block4_add (Add)          (None, 28, 28, 512)  0           conv3_block3_out[0][0]           \n",
            "                                                                 conv3_block4_3_bn[0][0]          \n",
            "__________________________________________________________________________________________________\n",
            "conv3_block4_out (Activation)   (None, 28, 28, 512)  0           conv3_block4_add[0][0]           \n",
            "__________________________________________________________________________________________________\n",
            "conv4_block1_1_conv (Conv2D)    (None, 14, 14, 256)  131328      conv3_block4_out[0][0]           \n",
            "__________________________________________________________________________________________________\n",
            "conv4_block1_1_bn (BatchNormali (None, 14, 14, 256)  1024        conv4_block1_1_conv[0][0]        \n",
            "__________________________________________________________________________________________________\n",
            "conv4_block1_1_relu (Activation (None, 14, 14, 256)  0           conv4_block1_1_bn[0][0]          \n",
            "__________________________________________________________________________________________________\n",
            "conv4_block1_2_conv (Conv2D)    (None, 14, 14, 256)  590080      conv4_block1_1_relu[0][0]        \n",
            "__________________________________________________________________________________________________\n",
            "conv4_block1_2_bn (BatchNormali (None, 14, 14, 256)  1024        conv4_block1_2_conv[0][0]        \n",
            "__________________________________________________________________________________________________\n",
            "conv4_block1_2_relu (Activation (None, 14, 14, 256)  0           conv4_block1_2_bn[0][0]          \n",
            "__________________________________________________________________________________________________\n",
            "conv4_block1_0_conv (Conv2D)    (None, 14, 14, 1024) 525312      conv3_block4_out[0][0]           \n",
            "__________________________________________________________________________________________________\n",
            "conv4_block1_3_conv (Conv2D)    (None, 14, 14, 1024) 263168      conv4_block1_2_relu[0][0]        \n",
            "__________________________________________________________________________________________________\n",
            "conv4_block1_0_bn (BatchNormali (None, 14, 14, 1024) 4096        conv4_block1_0_conv[0][0]        \n",
            "__________________________________________________________________________________________________\n",
            "conv4_block1_3_bn (BatchNormali (None, 14, 14, 1024) 4096        conv4_block1_3_conv[0][0]        \n",
            "__________________________________________________________________________________________________\n",
            "conv4_block1_add (Add)          (None, 14, 14, 1024) 0           conv4_block1_0_bn[0][0]          \n",
            "                                                                 conv4_block1_3_bn[0][0]          \n",
            "__________________________________________________________________________________________________\n",
            "conv4_block1_out (Activation)   (None, 14, 14, 1024) 0           conv4_block1_add[0][0]           \n",
            "__________________________________________________________________________________________________\n",
            "conv4_block2_1_conv (Conv2D)    (None, 14, 14, 256)  262400      conv4_block1_out[0][0]           \n",
            "__________________________________________________________________________________________________\n",
            "conv4_block2_1_bn (BatchNormali (None, 14, 14, 256)  1024        conv4_block2_1_conv[0][0]        \n",
            "__________________________________________________________________________________________________\n",
            "conv4_block2_1_relu (Activation (None, 14, 14, 256)  0           conv4_block2_1_bn[0][0]          \n",
            "__________________________________________________________________________________________________\n",
            "conv4_block2_2_conv (Conv2D)    (None, 14, 14, 256)  590080      conv4_block2_1_relu[0][0]        \n",
            "__________________________________________________________________________________________________\n",
            "conv4_block2_2_bn (BatchNormali (None, 14, 14, 256)  1024        conv4_block2_2_conv[0][0]        \n",
            "__________________________________________________________________________________________________\n",
            "conv4_block2_2_relu (Activation (None, 14, 14, 256)  0           conv4_block2_2_bn[0][0]          \n",
            "__________________________________________________________________________________________________\n",
            "conv4_block2_3_conv (Conv2D)    (None, 14, 14, 1024) 263168      conv4_block2_2_relu[0][0]        \n",
            "__________________________________________________________________________________________________\n",
            "conv4_block2_3_bn (BatchNormali (None, 14, 14, 1024) 4096        conv4_block2_3_conv[0][0]        \n",
            "__________________________________________________________________________________________________\n",
            "conv4_block2_add (Add)          (None, 14, 14, 1024) 0           conv4_block1_out[0][0]           \n",
            "                                                                 conv4_block2_3_bn[0][0]          \n",
            "__________________________________________________________________________________________________\n",
            "conv4_block2_out (Activation)   (None, 14, 14, 1024) 0           conv4_block2_add[0][0]           \n",
            "__________________________________________________________________________________________________\n",
            "conv4_block3_1_conv (Conv2D)    (None, 14, 14, 256)  262400      conv4_block2_out[0][0]           \n",
            "__________________________________________________________________________________________________\n",
            "conv4_block3_1_bn (BatchNormali (None, 14, 14, 256)  1024        conv4_block3_1_conv[0][0]        \n",
            "__________________________________________________________________________________________________\n",
            "conv4_block3_1_relu (Activation (None, 14, 14, 256)  0           conv4_block3_1_bn[0][0]          \n",
            "__________________________________________________________________________________________________\n",
            "conv4_block3_2_conv (Conv2D)    (None, 14, 14, 256)  590080      conv4_block3_1_relu[0][0]        \n",
            "__________________________________________________________________________________________________\n",
            "conv4_block3_2_bn (BatchNormali (None, 14, 14, 256)  1024        conv4_block3_2_conv[0][0]        \n",
            "__________________________________________________________________________________________________\n",
            "conv4_block3_2_relu (Activation (None, 14, 14, 256)  0           conv4_block3_2_bn[0][0]          \n",
            "__________________________________________________________________________________________________\n",
            "conv4_block3_3_conv (Conv2D)    (None, 14, 14, 1024) 263168      conv4_block3_2_relu[0][0]        \n",
            "__________________________________________________________________________________________________\n",
            "conv4_block3_3_bn (BatchNormali (None, 14, 14, 1024) 4096        conv4_block3_3_conv[0][0]        \n",
            "__________________________________________________________________________________________________\n",
            "conv4_block3_add (Add)          (None, 14, 14, 1024) 0           conv4_block2_out[0][0]           \n",
            "                                                                 conv4_block3_3_bn[0][0]          \n",
            "__________________________________________________________________________________________________\n",
            "conv4_block3_out (Activation)   (None, 14, 14, 1024) 0           conv4_block3_add[0][0]           \n",
            "__________________________________________________________________________________________________\n",
            "conv4_block4_1_conv (Conv2D)    (None, 14, 14, 256)  262400      conv4_block3_out[0][0]           \n",
            "__________________________________________________________________________________________________\n",
            "conv4_block4_1_bn (BatchNormali (None, 14, 14, 256)  1024        conv4_block4_1_conv[0][0]        \n",
            "__________________________________________________________________________________________________\n",
            "conv4_block4_1_relu (Activation (None, 14, 14, 256)  0           conv4_block4_1_bn[0][0]          \n",
            "__________________________________________________________________________________________________\n",
            "conv4_block4_2_conv (Conv2D)    (None, 14, 14, 256)  590080      conv4_block4_1_relu[0][0]        \n",
            "__________________________________________________________________________________________________\n",
            "conv4_block4_2_bn (BatchNormali (None, 14, 14, 256)  1024        conv4_block4_2_conv[0][0]        \n",
            "__________________________________________________________________________________________________\n",
            "conv4_block4_2_relu (Activation (None, 14, 14, 256)  0           conv4_block4_2_bn[0][0]          \n",
            "__________________________________________________________________________________________________\n",
            "conv4_block4_3_conv (Conv2D)    (None, 14, 14, 1024) 263168      conv4_block4_2_relu[0][0]        \n",
            "__________________________________________________________________________________________________\n",
            "conv4_block4_3_bn (BatchNormali (None, 14, 14, 1024) 4096        conv4_block4_3_conv[0][0]        \n",
            "__________________________________________________________________________________________________\n",
            "conv4_block4_add (Add)          (None, 14, 14, 1024) 0           conv4_block3_out[0][0]           \n",
            "                                                                 conv4_block4_3_bn[0][0]          \n",
            "__________________________________________________________________________________________________\n",
            "conv4_block4_out (Activation)   (None, 14, 14, 1024) 0           conv4_block4_add[0][0]           \n",
            "__________________________________________________________________________________________________\n",
            "conv4_block5_1_conv (Conv2D)    (None, 14, 14, 256)  262400      conv4_block4_out[0][0]           \n",
            "__________________________________________________________________________________________________\n",
            "conv4_block5_1_bn (BatchNormali (None, 14, 14, 256)  1024        conv4_block5_1_conv[0][0]        \n",
            "__________________________________________________________________________________________________\n",
            "conv4_block5_1_relu (Activation (None, 14, 14, 256)  0           conv4_block5_1_bn[0][0]          \n",
            "__________________________________________________________________________________________________\n",
            "conv4_block5_2_conv (Conv2D)    (None, 14, 14, 256)  590080      conv4_block5_1_relu[0][0]        \n",
            "__________________________________________________________________________________________________\n",
            "conv4_block5_2_bn (BatchNormali (None, 14, 14, 256)  1024        conv4_block5_2_conv[0][0]        \n",
            "__________________________________________________________________________________________________\n",
            "conv4_block5_2_relu (Activation (None, 14, 14, 256)  0           conv4_block5_2_bn[0][0]          \n",
            "__________________________________________________________________________________________________\n",
            "conv4_block5_3_conv (Conv2D)    (None, 14, 14, 1024) 263168      conv4_block5_2_relu[0][0]        \n",
            "__________________________________________________________________________________________________\n",
            "conv4_block5_3_bn (BatchNormali (None, 14, 14, 1024) 4096        conv4_block5_3_conv[0][0]        \n",
            "__________________________________________________________________________________________________\n",
            "conv4_block5_add (Add)          (None, 14, 14, 1024) 0           conv4_block4_out[0][0]           \n",
            "                                                                 conv4_block5_3_bn[0][0]          \n",
            "__________________________________________________________________________________________________\n",
            "conv4_block5_out (Activation)   (None, 14, 14, 1024) 0           conv4_block5_add[0][0]           \n",
            "__________________________________________________________________________________________________\n",
            "conv4_block6_1_conv (Conv2D)    (None, 14, 14, 256)  262400      conv4_block5_out[0][0]           \n",
            "__________________________________________________________________________________________________\n",
            "conv4_block6_1_bn (BatchNormali (None, 14, 14, 256)  1024        conv4_block6_1_conv[0][0]        \n",
            "__________________________________________________________________________________________________\n",
            "conv4_block6_1_relu (Activation (None, 14, 14, 256)  0           conv4_block6_1_bn[0][0]          \n",
            "__________________________________________________________________________________________________\n",
            "conv4_block6_2_conv (Conv2D)    (None, 14, 14, 256)  590080      conv4_block6_1_relu[0][0]        \n",
            "__________________________________________________________________________________________________\n",
            "conv4_block6_2_bn (BatchNormali (None, 14, 14, 256)  1024        conv4_block6_2_conv[0][0]        \n",
            "__________________________________________________________________________________________________\n",
            "conv4_block6_2_relu (Activation (None, 14, 14, 256)  0           conv4_block6_2_bn[0][0]          \n",
            "__________________________________________________________________________________________________\n",
            "conv4_block6_3_conv (Conv2D)    (None, 14, 14, 1024) 263168      conv4_block6_2_relu[0][0]        \n",
            "__________________________________________________________________________________________________\n",
            "conv4_block6_3_bn (BatchNormali (None, 14, 14, 1024) 4096        conv4_block6_3_conv[0][0]        \n",
            "__________________________________________________________________________________________________\n",
            "conv4_block6_add (Add)          (None, 14, 14, 1024) 0           conv4_block5_out[0][0]           \n",
            "                                                                 conv4_block6_3_bn[0][0]          \n",
            "__________________________________________________________________________________________________\n",
            "conv4_block6_out (Activation)   (None, 14, 14, 1024) 0           conv4_block6_add[0][0]           \n",
            "__________________________________________________________________________________________________\n",
            "conv5_block1_1_conv (Conv2D)    (None, 7, 7, 512)    524800      conv4_block6_out[0][0]           \n",
            "__________________________________________________________________________________________________\n",
            "conv5_block1_1_bn (BatchNormali (None, 7, 7, 512)    2048        conv5_block1_1_conv[0][0]        \n",
            "__________________________________________________________________________________________________\n",
            "conv5_block1_1_relu (Activation (None, 7, 7, 512)    0           conv5_block1_1_bn[0][0]          \n",
            "__________________________________________________________________________________________________\n",
            "conv5_block1_2_conv (Conv2D)    (None, 7, 7, 512)    2359808     conv5_block1_1_relu[0][0]        \n",
            "__________________________________________________________________________________________________\n",
            "conv5_block1_2_bn (BatchNormali (None, 7, 7, 512)    2048        conv5_block1_2_conv[0][0]        \n",
            "__________________________________________________________________________________________________\n",
            "conv5_block1_2_relu (Activation (None, 7, 7, 512)    0           conv5_block1_2_bn[0][0]          \n",
            "__________________________________________________________________________________________________\n",
            "conv5_block1_0_conv (Conv2D)    (None, 7, 7, 2048)   2099200     conv4_block6_out[0][0]           \n",
            "__________________________________________________________________________________________________\n",
            "conv5_block1_3_conv (Conv2D)    (None, 7, 7, 2048)   1050624     conv5_block1_2_relu[0][0]        \n",
            "__________________________________________________________________________________________________\n",
            "conv5_block1_0_bn (BatchNormali (None, 7, 7, 2048)   8192        conv5_block1_0_conv[0][0]        \n",
            "__________________________________________________________________________________________________\n",
            "conv5_block1_3_bn (BatchNormali (None, 7, 7, 2048)   8192        conv5_block1_3_conv[0][0]        \n",
            "__________________________________________________________________________________________________\n",
            "conv5_block1_add (Add)          (None, 7, 7, 2048)   0           conv5_block1_0_bn[0][0]          \n",
            "                                                                 conv5_block1_3_bn[0][0]          \n",
            "__________________________________________________________________________________________________\n",
            "conv5_block1_out (Activation)   (None, 7, 7, 2048)   0           conv5_block1_add[0][0]           \n",
            "__________________________________________________________________________________________________\n",
            "conv5_block2_1_conv (Conv2D)    (None, 7, 7, 512)    1049088     conv5_block1_out[0][0]           \n",
            "__________________________________________________________________________________________________\n",
            "conv5_block2_1_bn (BatchNormali (None, 7, 7, 512)    2048        conv5_block2_1_conv[0][0]        \n",
            "__________________________________________________________________________________________________\n",
            "conv5_block2_1_relu (Activation (None, 7, 7, 512)    0           conv5_block2_1_bn[0][0]          \n",
            "__________________________________________________________________________________________________\n",
            "conv5_block2_2_conv (Conv2D)    (None, 7, 7, 512)    2359808     conv5_block2_1_relu[0][0]        \n",
            "__________________________________________________________________________________________________\n",
            "conv5_block2_2_bn (BatchNormali (None, 7, 7, 512)    2048        conv5_block2_2_conv[0][0]        \n",
            "__________________________________________________________________________________________________\n",
            "conv5_block2_2_relu (Activation (None, 7, 7, 512)    0           conv5_block2_2_bn[0][0]          \n",
            "__________________________________________________________________________________________________\n",
            "conv5_block2_3_conv (Conv2D)    (None, 7, 7, 2048)   1050624     conv5_block2_2_relu[0][0]        \n",
            "__________________________________________________________________________________________________\n",
            "conv5_block2_3_bn (BatchNormali (None, 7, 7, 2048)   8192        conv5_block2_3_conv[0][0]        \n",
            "__________________________________________________________________________________________________\n",
            "conv5_block2_add (Add)          (None, 7, 7, 2048)   0           conv5_block1_out[0][0]           \n",
            "                                                                 conv5_block2_3_bn[0][0]          \n",
            "__________________________________________________________________________________________________\n",
            "conv5_block2_out (Activation)   (None, 7, 7, 2048)   0           conv5_block2_add[0][0]           \n",
            "__________________________________________________________________________________________________\n",
            "conv5_block3_1_conv (Conv2D)    (None, 7, 7, 512)    1049088     conv5_block2_out[0][0]           \n",
            "__________________________________________________________________________________________________\n",
            "conv5_block3_1_bn (BatchNormali (None, 7, 7, 512)    2048        conv5_block3_1_conv[0][0]        \n",
            "__________________________________________________________________________________________________\n",
            "conv5_block3_1_relu (Activation (None, 7, 7, 512)    0           conv5_block3_1_bn[0][0]          \n",
            "__________________________________________________________________________________________________\n",
            "conv5_block3_2_conv (Conv2D)    (None, 7, 7, 512)    2359808     conv5_block3_1_relu[0][0]        \n",
            "__________________________________________________________________________________________________\n",
            "conv5_block3_2_bn (BatchNormali (None, 7, 7, 512)    2048        conv5_block3_2_conv[0][0]        \n",
            "__________________________________________________________________________________________________\n",
            "conv5_block3_2_relu (Activation (None, 7, 7, 512)    0           conv5_block3_2_bn[0][0]          \n",
            "__________________________________________________________________________________________________\n",
            "conv5_block3_3_conv (Conv2D)    (None, 7, 7, 2048)   1050624     conv5_block3_2_relu[0][0]        \n",
            "__________________________________________________________________________________________________\n",
            "conv5_block3_3_bn (BatchNormali (None, 7, 7, 2048)   8192        conv5_block3_3_conv[0][0]        \n",
            "__________________________________________________________________________________________________\n",
            "conv5_block3_add (Add)          (None, 7, 7, 2048)   0           conv5_block2_out[0][0]           \n",
            "                                                                 conv5_block3_3_bn[0][0]          \n",
            "__________________________________________________________________________________________________\n",
            "conv5_block3_out (Activation)   (None, 7, 7, 2048)   0           conv5_block3_add[0][0]           \n",
            "__________________________________________________________________________________________________\n",
            "flatten_1 (Flatten)             (None, 100352)       0           conv5_block3_out[0][0]           \n",
            "__________________________________________________________________________________________________\n",
            "dense_1 (Dense)                 (None, 3)            301059      flatten_1[0][0]                  \n",
            "==================================================================================================\n",
            "Total params: 23,888,771\n",
            "Trainable params: 301,059\n",
            "Non-trainable params: 23,587,712\n",
            "__________________________________________________________________________________________________\n"
          ],
          "name": "stdout"
        }
      ]
    },
    {
      "cell_type": "code",
      "metadata": {
        "id": "SNQD_0rkDSc-",
        "colab_type": "code",
        "colab": {}
      },
      "source": [
        "# tell the model what cost and optimization method to use.\n",
        "model.compile(loss='categorical_crossentropy',\n",
        "              optimizer = 'adam',\n",
        "              metrics =['accuracy'])\n"
      ],
      "execution_count": 41,
      "outputs": []
    },
    {
      "cell_type": "code",
      "metadata": {
        "id": "AfraBQTjQmNh",
        "colab_type": "code",
        "colab": {}
      },
      "source": [
        "# We are doing Data Augmetation here, to create more images from one image.\n",
        "train_datagen = ImageDataGenerator(rescale = 1./255,           # scaling down the image(it will be from 0 to 1 pixel.)\n",
        "                                   shear_range = 0.2,          #proprties\n",
        "                                   zoom_range  = 0.2,\n",
        "                                   horizontal_flip = True)\n",
        "\n",
        "test_datagen = ImageDataGenerator(rescale=1./255)             #scaling down the test data images"
      ],
      "execution_count": 43,
      "outputs": []
    },
    {
      "cell_type": "code",
      "metadata": {
        "id": "7ALueHHKSuFG",
        "colab_type": "code",
        "colab": {
          "base_uri": "https://localhost:8080/",
          "height": 34
        },
        "outputId": "594c7bc0-14f9-417a-abf9-46a183ab0001"
      },
      "source": [
        "# We are going to read images from folder(train).\n",
        "training_set = train_datagen.flow_from_directory('/content/drive/My Drive/Datasets/Train',\n",
        "                                                 target_size = (224 ,224),    #Make sure you provide the same target size as initialied for the image size\n",
        "                                                 batch_size = 32,\n",
        "                                                 class_mode = 'categorical')    #(categorical) because you have more than 2 classes. if not you can use binary."
      ],
      "execution_count": 49,
      "outputs": [
        {
          "output_type": "stream",
          "text": [
            "Found 64 images belonging to 3 classes.\n"
          ],
          "name": "stdout"
        }
      ]
    },
    {
      "cell_type": "code",
      "metadata": {
        "id": "2bZkteFmSvJk",
        "colab_type": "code",
        "colab": {
          "base_uri": "https://localhost:8080/",
          "height": 34
        },
        "outputId": "062a4e70-63d1-4e53-b0c0-a5d2d9991bc2"
      },
      "source": [
        "test_set = test_datagen.flow_from_directory('/content/drive/My Drive/Datasets/Test',\n",
        "                                            target_size = (224,224),\n",
        "                                            batch_size = 32,\n",
        "                                            class_mode = 'categorical')"
      ],
      "execution_count": 50,
      "outputs": [
        {
          "output_type": "stream",
          "text": [
            "Found 58 images belonging to 3 classes.\n"
          ],
          "name": "stdout"
        }
      ]
    },
    {
      "cell_type": "code",
      "metadata": {
        "id": "be-CmuF-WXWq",
        "colab_type": "code",
        "colab": {
          "base_uri": "https://localhost:8080/",
          "height": 1000
        },
        "outputId": "03ab26f0-742b-428c-e24c-0338ac32d616"
      },
      "source": [
        "# fit the model\n",
        "r = model.fit_generator(\n",
        "    training_set,\n",
        "    validation_data = test_set,\n",
        "    epochs = 50,\n",
        "    steps_per_epoch = len(training_set),\n",
        "    validation_steps = len(test_set)\n",
        "                    \n",
        ")"
      ],
      "execution_count": 52,
      "outputs": [
        {
          "output_type": "stream",
          "text": [
            "Epoch 1/50\n",
            "2/2 [==============================] - 25s 12s/step - loss: 6.8025 - accuracy: 0.2812 - val_loss: 6.2259 - val_accuracy: 0.3276\n",
            "Epoch 2/50\n",
            "2/2 [==============================] - 13s 7s/step - loss: 3.2668 - accuracy: 0.3750 - val_loss: 2.2518 - val_accuracy: 0.5172\n",
            "Epoch 3/50\n",
            "2/2 [==============================] - 13s 7s/step - loss: 2.0851 - accuracy: 0.4375 - val_loss: 2.7043 - val_accuracy: 0.1724\n",
            "Epoch 4/50\n",
            "2/2 [==============================] - 13s 7s/step - loss: 1.8951 - accuracy: 0.4219 - val_loss: 1.6526 - val_accuracy: 0.3448\n",
            "Epoch 5/50\n",
            "2/2 [==============================] - 13s 7s/step - loss: 0.8946 - accuracy: 0.5938 - val_loss: 1.4135 - val_accuracy: 0.5517\n",
            "Epoch 6/50\n",
            "2/2 [==============================] - 13s 7s/step - loss: 1.3588 - accuracy: 0.5156 - val_loss: 1.4048 - val_accuracy: 0.3793\n",
            "Epoch 7/50\n",
            "2/2 [==============================] - 13s 7s/step - loss: 0.9080 - accuracy: 0.5938 - val_loss: 1.9397 - val_accuracy: 0.3793\n",
            "Epoch 8/50\n",
            "2/2 [==============================] - 13s 7s/step - loss: 0.9698 - accuracy: 0.5781 - val_loss: 1.0316 - val_accuracy: 0.6034\n",
            "Epoch 9/50\n",
            "2/2 [==============================] - 13s 7s/step - loss: 0.9024 - accuracy: 0.6250 - val_loss: 0.8957 - val_accuracy: 0.5690\n",
            "Epoch 10/50\n",
            "2/2 [==============================] - 13s 7s/step - loss: 0.5383 - accuracy: 0.7812 - val_loss: 1.4572 - val_accuracy: 0.4655\n",
            "Epoch 11/50\n",
            "2/2 [==============================] - 13s 7s/step - loss: 0.7045 - accuracy: 0.7188 - val_loss: 0.8399 - val_accuracy: 0.6207\n",
            "Epoch 12/50\n",
            "2/2 [==============================] - 13s 7s/step - loss: 0.4943 - accuracy: 0.7969 - val_loss: 0.8663 - val_accuracy: 0.6552\n",
            "Epoch 13/50\n",
            "2/2 [==============================] - 13s 7s/step - loss: 0.5379 - accuracy: 0.7500 - val_loss: 0.9259 - val_accuracy: 0.6897\n",
            "Epoch 14/50\n",
            "2/2 [==============================] - 13s 7s/step - loss: 0.4837 - accuracy: 0.7656 - val_loss: 0.8169 - val_accuracy: 0.6207\n",
            "Epoch 15/50\n",
            "2/2 [==============================] - 13s 7s/step - loss: 0.4507 - accuracy: 0.7969 - val_loss: 0.8727 - val_accuracy: 0.7069\n",
            "Epoch 16/50\n",
            "2/2 [==============================] - 13s 7s/step - loss: 0.4479 - accuracy: 0.8750 - val_loss: 0.8556 - val_accuracy: 0.7069\n",
            "Epoch 17/50\n",
            "2/2 [==============================] - 13s 7s/step - loss: 0.4086 - accuracy: 0.8281 - val_loss: 0.8725 - val_accuracy: 0.6034\n",
            "Epoch 18/50\n",
            "2/2 [==============================] - 13s 7s/step - loss: 0.3960 - accuracy: 0.8281 - val_loss: 0.8269 - val_accuracy: 0.7414\n",
            "Epoch 19/50\n",
            "2/2 [==============================] - 13s 7s/step - loss: 0.5175 - accuracy: 0.7812 - val_loss: 0.7885 - val_accuracy: 0.6897\n",
            "Epoch 20/50\n",
            "2/2 [==============================] - 13s 7s/step - loss: 0.4583 - accuracy: 0.8125 - val_loss: 0.9032 - val_accuracy: 0.5862\n",
            "Epoch 21/50\n",
            "2/2 [==============================] - 13s 7s/step - loss: 0.4040 - accuracy: 0.8125 - val_loss: 0.8459 - val_accuracy: 0.6552\n",
            "Epoch 22/50\n",
            "2/2 [==============================] - 13s 7s/step - loss: 0.3723 - accuracy: 0.8906 - val_loss: 0.8056 - val_accuracy: 0.7241\n",
            "Epoch 23/50\n",
            "2/2 [==============================] - 13s 7s/step - loss: 0.3455 - accuracy: 0.8750 - val_loss: 0.8318 - val_accuracy: 0.6897\n",
            "Epoch 24/50\n",
            "2/2 [==============================] - 13s 7s/step - loss: 0.3259 - accuracy: 0.9062 - val_loss: 0.9013 - val_accuracy: 0.6207\n",
            "Epoch 25/50\n",
            "2/2 [==============================] - 13s 7s/step - loss: 0.3122 - accuracy: 0.9219 - val_loss: 0.8048 - val_accuracy: 0.7414\n",
            "Epoch 26/50\n",
            "2/2 [==============================] - 13s 7s/step - loss: 0.3262 - accuracy: 0.9219 - val_loss: 0.8143 - val_accuracy: 0.6897\n",
            "Epoch 27/50\n",
            "2/2 [==============================] - 13s 7s/step - loss: 0.3034 - accuracy: 0.9375 - val_loss: 0.8236 - val_accuracy: 0.7241\n",
            "Epoch 28/50\n",
            "2/2 [==============================] - 13s 7s/step - loss: 0.3470 - accuracy: 0.8594 - val_loss: 0.8074 - val_accuracy: 0.7241\n",
            "Epoch 29/50\n",
            "2/2 [==============================] - 13s 7s/step - loss: 0.2834 - accuracy: 0.9375 - val_loss: 0.8325 - val_accuracy: 0.7069\n",
            "Epoch 30/50\n",
            "2/2 [==============================] - 13s 7s/step - loss: 0.2657 - accuracy: 0.9219 - val_loss: 0.7942 - val_accuracy: 0.7586\n",
            "Epoch 31/50\n",
            "2/2 [==============================] - 13s 7s/step - loss: 0.2244 - accuracy: 0.9531 - val_loss: 0.8296 - val_accuracy: 0.7069\n",
            "Epoch 32/50\n",
            "2/2 [==============================] - 13s 7s/step - loss: 0.2990 - accuracy: 0.8906 - val_loss: 0.8363 - val_accuracy: 0.7069\n",
            "Epoch 33/50\n",
            "2/2 [==============================] - 13s 7s/step - loss: 0.2495 - accuracy: 0.9375 - val_loss: 0.7992 - val_accuracy: 0.7586\n",
            "Epoch 34/50\n",
            "2/2 [==============================] - 13s 7s/step - loss: 0.2619 - accuracy: 0.9531 - val_loss: 0.8866 - val_accuracy: 0.6724\n",
            "Epoch 35/50\n",
            "2/2 [==============================] - 13s 7s/step - loss: 0.3498 - accuracy: 0.8125 - val_loss: 0.8536 - val_accuracy: 0.6897\n",
            "Epoch 36/50\n",
            "2/2 [==============================] - 13s 7s/step - loss: 0.2104 - accuracy: 0.9844 - val_loss: 0.8410 - val_accuracy: 0.7241\n",
            "Epoch 37/50\n",
            "2/2 [==============================] - 13s 7s/step - loss: 0.2727 - accuracy: 0.9062 - val_loss: 0.9227 - val_accuracy: 0.6724\n",
            "Epoch 38/50\n",
            "2/2 [==============================] - 13s 7s/step - loss: 0.2503 - accuracy: 0.9062 - val_loss: 0.8422 - val_accuracy: 0.6897\n",
            "Epoch 39/50\n",
            "2/2 [==============================] - 13s 7s/step - loss: 0.2069 - accuracy: 0.9531 - val_loss: 0.7975 - val_accuracy: 0.7931\n",
            "Epoch 40/50\n",
            "2/2 [==============================] - 13s 7s/step - loss: 0.2461 - accuracy: 0.9688 - val_loss: 0.9028 - val_accuracy: 0.6897\n",
            "Epoch 41/50\n",
            "2/2 [==============================] - 13s 7s/step - loss: 0.2218 - accuracy: 0.9219 - val_loss: 0.7997 - val_accuracy: 0.7759\n",
            "Epoch 42/50\n",
            "2/2 [==============================] - 13s 7s/step - loss: 0.2056 - accuracy: 0.9844 - val_loss: 0.8198 - val_accuracy: 0.6897\n",
            "Epoch 43/50\n",
            "2/2 [==============================] - 13s 7s/step - loss: 0.3111 - accuracy: 0.8750 - val_loss: 0.8170 - val_accuracy: 0.7241\n",
            "Epoch 44/50\n",
            "2/2 [==============================] - 13s 7s/step - loss: 0.2662 - accuracy: 0.9531 - val_loss: 0.8227 - val_accuracy: 0.7241\n",
            "Epoch 45/50\n",
            "2/2 [==============================] - 13s 7s/step - loss: 0.2315 - accuracy: 0.9375 - val_loss: 1.0018 - val_accuracy: 0.6379\n",
            "Epoch 46/50\n",
            "2/2 [==============================] - 13s 7s/step - loss: 0.2134 - accuracy: 0.9531 - val_loss: 0.8103 - val_accuracy: 0.7759\n",
            "Epoch 47/50\n",
            "2/2 [==============================] - 13s 7s/step - loss: 0.1965 - accuracy: 0.9375 - val_loss: 0.8408 - val_accuracy: 0.7069\n",
            "Epoch 48/50\n",
            "2/2 [==============================] - 13s 7s/step - loss: 0.2111 - accuracy: 0.9531 - val_loss: 0.8794 - val_accuracy: 0.6897\n",
            "Epoch 49/50\n",
            "2/2 [==============================] - 13s 7s/step - loss: 0.1846 - accuracy: 0.9531 - val_loss: 0.8587 - val_accuracy: 0.7414\n",
            "Epoch 50/50\n",
            "2/2 [==============================] - 13s 7s/step - loss: 0.2093 - accuracy: 0.9219 - val_loss: 0.8306 - val_accuracy: 0.7414\n"
          ],
          "name": "stdout"
        }
      ]
    },
    {
      "cell_type": "code",
      "metadata": {
        "id": "ceQ7oyozXH7p",
        "colab_type": "code",
        "colab": {}
      },
      "source": [
        "The training set is used to train the model, while the validation set is only used to evaluate the model's performance. \n",
        " At the moment your model has an accuracy of ~86% on the training set and ~84% on the validation set.\n",
        " This means that you can expect your model to perform with ~84% accuracy on new data.\n",
        "\n",
        " Validation set actually can be regarded as a part of training set, because it is used to build your model, neural networks or others. \n",
        " It is usually used for parameter selection and to avoild overfitting. ... \n",
        " Test set is used for performance evaluation."
      ],
      "execution_count": null,
      "outputs": []
    },
    {
      "cell_type": "code",
      "metadata": {
        "id": "A4_xo90BaROT",
        "colab_type": "code",
        "colab": {
          "base_uri": "https://localhost:8080/",
          "height": 1000
        },
        "outputId": "da0e71e6-8f2e-4a3d-93e4-dfa020ccecfe"
      },
      "source": [
        "r.history"
      ],
      "execution_count": 54,
      "outputs": [
        {
          "output_type": "execute_result",
          "data": {
            "text/plain": [
              "{'accuracy': [0.28125,\n",
              "  0.375,\n",
              "  0.4375,\n",
              "  0.421875,\n",
              "  0.59375,\n",
              "  0.515625,\n",
              "  0.59375,\n",
              "  0.578125,\n",
              "  0.625,\n",
              "  0.78125,\n",
              "  0.71875,\n",
              "  0.796875,\n",
              "  0.75,\n",
              "  0.765625,\n",
              "  0.796875,\n",
              "  0.875,\n",
              "  0.828125,\n",
              "  0.828125,\n",
              "  0.78125,\n",
              "  0.8125,\n",
              "  0.8125,\n",
              "  0.890625,\n",
              "  0.875,\n",
              "  0.90625,\n",
              "  0.921875,\n",
              "  0.921875,\n",
              "  0.9375,\n",
              "  0.859375,\n",
              "  0.9375,\n",
              "  0.921875,\n",
              "  0.953125,\n",
              "  0.890625,\n",
              "  0.9375,\n",
              "  0.953125,\n",
              "  0.8125,\n",
              "  0.984375,\n",
              "  0.90625,\n",
              "  0.90625,\n",
              "  0.953125,\n",
              "  0.96875,\n",
              "  0.921875,\n",
              "  0.984375,\n",
              "  0.875,\n",
              "  0.953125,\n",
              "  0.9375,\n",
              "  0.953125,\n",
              "  0.9375,\n",
              "  0.953125,\n",
              "  0.953125,\n",
              "  0.921875],\n",
              " 'loss': [6.802465438842773,\n",
              "  3.2667903900146484,\n",
              "  2.0850839614868164,\n",
              "  1.8950577974319458,\n",
              "  0.8946362733840942,\n",
              "  1.3588290214538574,\n",
              "  0.9079628586769104,\n",
              "  0.9698390960693359,\n",
              "  0.9023950099945068,\n",
              "  0.5383280515670776,\n",
              "  0.7045235633850098,\n",
              "  0.4943445920944214,\n",
              "  0.5378977060317993,\n",
              "  0.4837163984775543,\n",
              "  0.45072141289711,\n",
              "  0.44788673520088196,\n",
              "  0.4085513949394226,\n",
              "  0.39600035548210144,\n",
              "  0.5175458788871765,\n",
              "  0.4582870900630951,\n",
              "  0.4040336012840271,\n",
              "  0.3723011612892151,\n",
              "  0.34545326232910156,\n",
              "  0.3259376883506775,\n",
              "  0.3121833801269531,\n",
              "  0.3262086510658264,\n",
              "  0.30344271659851074,\n",
              "  0.3470035195350647,\n",
              "  0.28342556953430176,\n",
              "  0.265656054019928,\n",
              "  0.2243661880493164,\n",
              "  0.2989605665206909,\n",
              "  0.24946627020835876,\n",
              "  0.26194173097610474,\n",
              "  0.34982284903526306,\n",
              "  0.21037819981575012,\n",
              "  0.27274373173713684,\n",
              "  0.2502679228782654,\n",
              "  0.20692208409309387,\n",
              "  0.24605081975460052,\n",
              "  0.2217675745487213,\n",
              "  0.20558568835258484,\n",
              "  0.31111693382263184,\n",
              "  0.2661603093147278,\n",
              "  0.2314957082271576,\n",
              "  0.21340671181678772,\n",
              "  0.19646115601062775,\n",
              "  0.2110537588596344,\n",
              "  0.18455207347869873,\n",
              "  0.209292933344841],\n",
              " 'val_accuracy': [0.32758620381355286,\n",
              "  0.517241358757019,\n",
              "  0.17241379618644714,\n",
              "  0.3448275923728943,\n",
              "  0.5517241358757019,\n",
              "  0.37931033968925476,\n",
              "  0.37931033968925476,\n",
              "  0.6034482717514038,\n",
              "  0.568965494632721,\n",
              "  0.4655172526836395,\n",
              "  0.6206896305084229,\n",
              "  0.6551724076271057,\n",
              "  0.6896551847457886,\n",
              "  0.6206896305084229,\n",
              "  0.7068965435028076,\n",
              "  0.7068965435028076,\n",
              "  0.6034482717514038,\n",
              "  0.7413793206214905,\n",
              "  0.6896551847457886,\n",
              "  0.5862069129943848,\n",
              "  0.6551724076271057,\n",
              "  0.7241379022598267,\n",
              "  0.6896551847457886,\n",
              "  0.6206896305084229,\n",
              "  0.7413793206214905,\n",
              "  0.6896551847457886,\n",
              "  0.7241379022598267,\n",
              "  0.7241379022598267,\n",
              "  0.7068965435028076,\n",
              "  0.7586206793785095,\n",
              "  0.7068965435028076,\n",
              "  0.7068965435028076,\n",
              "  0.7586206793785095,\n",
              "  0.6724137663841248,\n",
              "  0.6896551847457886,\n",
              "  0.7241379022598267,\n",
              "  0.6724137663841248,\n",
              "  0.6896551847457886,\n",
              "  0.7931034564971924,\n",
              "  0.6896551847457886,\n",
              "  0.7758620977401733,\n",
              "  0.6896551847457886,\n",
              "  0.7241379022598267,\n",
              "  0.7241379022598267,\n",
              "  0.6379310488700867,\n",
              "  0.7758620977401733,\n",
              "  0.7068965435028076,\n",
              "  0.6896551847457886,\n",
              "  0.7413793206214905,\n",
              "  0.7413793206214905],\n",
              " 'val_loss': [6.225948810577393,\n",
              "  2.2518205642700195,\n",
              "  2.7042689323425293,\n",
              "  1.652584433555603,\n",
              "  1.4135162830352783,\n",
              "  1.404844045639038,\n",
              "  1.9396976232528687,\n",
              "  1.0315667390823364,\n",
              "  0.8956959843635559,\n",
              "  1.4571738243103027,\n",
              "  0.839892566204071,\n",
              "  0.8662887811660767,\n",
              "  0.9258560538291931,\n",
              "  0.8168724179267883,\n",
              "  0.8727309107780457,\n",
              "  0.8555802702903748,\n",
              "  0.8725318312644958,\n",
              "  0.8269467949867249,\n",
              "  0.7884583473205566,\n",
              "  0.9031910300254822,\n",
              "  0.8459393978118896,\n",
              "  0.8055618405342102,\n",
              "  0.8318289518356323,\n",
              "  0.9012964367866516,\n",
              "  0.8047847151756287,\n",
              "  0.8143064975738525,\n",
              "  0.8236163854598999,\n",
              "  0.8073692917823792,\n",
              "  0.8325142860412598,\n",
              "  0.7942448854446411,\n",
              "  0.8295878767967224,\n",
              "  0.8362514972686768,\n",
              "  0.7991655468940735,\n",
              "  0.8865818381309509,\n",
              "  0.8535916805267334,\n",
              "  0.8409947156906128,\n",
              "  0.9226893186569214,\n",
              "  0.842197597026825,\n",
              "  0.7974739074707031,\n",
              "  0.9028082489967346,\n",
              "  0.799737274646759,\n",
              "  0.8198274970054626,\n",
              "  0.8169996738433838,\n",
              "  0.8226699829101562,\n",
              "  1.001755952835083,\n",
              "  0.8103136420249939,\n",
              "  0.8408418893814087,\n",
              "  0.8793500065803528,\n",
              "  0.8586830496788025,\n",
              "  0.830639660358429]}"
            ]
          },
          "metadata": {
            "tags": []
          },
          "execution_count": 54
        }
      ]
    },
    {
      "cell_type": "code",
      "metadata": {
        "id": "MABc7xNpaVQ-",
        "colab_type": "code",
        "colab": {
          "base_uri": "https://localhost:8080/",
          "height": 982
        },
        "outputId": "28407e14-2689-41f0-ea2a-e561efbe37e0"
      },
      "source": [
        "#plot the loss\n",
        "plt.figure(figsize=(12,8))\n",
        "plt.plot(r.history['loss'],label = 'train loss')\n",
        "plt.plot(r.history['val_loss'], label = 'val loss')\n",
        "plt.legend()\n",
        "plt.show()\n",
        "plt.savefig('lossval_loss')\n",
        "\n",
        "#plot the accuracy\n",
        "plt.figure(figsize=(12,8))\n",
        "plt.plot(r.history['accuracy'],label = 'train accuracy')\n",
        "plt.plot(r.history['val_accuracy'], label = 'val accuracy'\n",
        ")\n",
        "plt.legend()\n",
        "plt.show()\n",
        "plt.savefig('Accval_accuracy')\n",
        "\n"
      ],
      "execution_count": 61,
      "outputs": [
        {
          "output_type": "display_data",
          "data": {
            "image/png": "[encoded data removed]",
            "text/plain": [
              "<Figure size 864x576 with 1 Axes>"
            ]
          },
          "metadata": {
            "tags": [],
            "needs_background": "light"
          }
        },
        {
          "output_type": "display_data",
          "data": {
            "text/plain": [
              "<Figure size 432x288 with 0 Axes>"
            ]
          },
          "metadata": {
            "tags": []
          }
        },
        {
          "output_type": "display_data",
          "data": {
            "image/png": "[encoded data removed]",
            "text/plain": [
              "<Figure size 864x576 with 1 Axes>"
            ]
          },
          "metadata": {
            "tags": [],
            "needs_background": "light"
          }
        },
        {
          "output_type": "display_data",
          "data": {
            "text/plain": [
              "<Figure size 432x288 with 0 Axes>"
            ]
          },
          "metadata": {
            "tags": []
          }
        }
      ]
    },
    {
      "cell_type": "code",
      "metadata": {
        "id": "K7PrmWKgbW-N",
        "colab_type": "code",
        "colab": {}
      },
      "source": [
        "#saving the model\n",
        "from tensorflow.keras.models import load_model\n",
        "model.save('model_rasnet50.h5')"
      ],
      "execution_count": 62,
      "outputs": []
    },
    {
      "cell_type": "code",
      "metadata": {
        "id": "n91rrmrncDSh",
        "colab_type": "code",
        "colab": {}
      },
      "source": [
        "ypred = model.predict(test_set)"
      ],
      "execution_count": 63,
      "outputs": []
    },
    {
      "cell_type": "code",
      "metadata": {
        "id": "jkbY-ZavcdJV",
        "colab_type": "code",
        "colab": {
          "base_uri": "https://localhost:8080/",
          "height": 991
        },
        "outputId": "979e53d2-1ee2-4a25-b014-bc980432c8c7"
      },
      "source": [
        "#probability of being that car.\n",
        "ypred"
      ],
      "execution_count": 64,
      "outputs": [
        {
          "output_type": "execute_result",
          "data": {
            "text/plain": [
              "array([[2.33044904e-02, 2.31092200e-01, 7.45603263e-01],\n",
              "       [3.85734774e-02, 9.40610707e-01, 2.08158698e-02],\n",
              "       [2.09869305e-03, 9.61320102e-01, 3.65812071e-02],\n",
              "       [9.77928340e-02, 2.20260143e-01, 6.81947052e-01],\n",
              "       [4.72825646e-01, 1.82749450e-01, 3.44424903e-01],\n",
              "       [1.30409887e-02, 9.59204614e-01, 2.77543999e-02],\n",
              "       [3.43287028e-02, 2.54245562e-04, 9.65417027e-01],\n",
              "       [7.09530991e-03, 2.54442483e-01, 7.38462150e-01],\n",
              "       [2.59464519e-04, 9.94412482e-01, 5.32807736e-03],\n",
              "       [1.01200370e-02, 9.88609314e-01, 1.27073168e-03],\n",
              "       [1.85845830e-02, 5.44521399e-03, 9.75970149e-01],\n",
              "       [2.88329944e-02, 7.28705049e-01, 2.42461890e-01],\n",
              "       [1.19090620e-02, 2.55701435e-03, 9.85533953e-01],\n",
              "       [8.54179025e-01, 8.75624418e-02, 5.82585037e-02],\n",
              "       [1.85813606e-02, 1.59438416e-01, 8.21980298e-01],\n",
              "       [3.14724296e-02, 1.24353776e-02, 9.56092238e-01],\n",
              "       [1.45583032e-02, 8.42535496e-01, 1.42906189e-01],\n",
              "       [4.02122177e-02, 1.14857644e-01, 8.44930112e-01],\n",
              "       [6.68404222e-01, 2.23510146e-01, 1.08085588e-01],\n",
              "       [2.93824403e-03, 2.76201088e-02, 9.69441712e-01],\n",
              "       [3.74030434e-02, 4.28182125e-01, 5.34414887e-01],\n",
              "       [3.02820057e-01, 4.59869988e-02, 6.51192904e-01],\n",
              "       [1.61151588e-02, 6.01233721e-01, 3.82651091e-01],\n",
              "       [7.96180606e-01, 1.98781952e-01, 5.03742741e-03],\n",
              "       [2.04654429e-02, 8.88264835e-01, 9.12697092e-02],\n",
              "       [2.77687877e-01, 6.73136294e-01, 4.91758361e-02],\n",
              "       [4.69850674e-02, 9.11488477e-03, 9.43900049e-01],\n",
              "       [1.77644670e-01, 4.97762769e-01, 3.24592531e-01],\n",
              "       [1.66199103e-01, 6.24452889e-01, 2.09347978e-01],\n",
              "       [3.04961391e-02, 8.11621189e-01, 1.57882750e-01],\n",
              "       [2.24280179e-01, 4.42817718e-01, 3.32901984e-01],\n",
              "       [1.09187234e-02, 9.18650687e-01, 7.04305544e-02],\n",
              "       [8.42876434e-01, 6.70856535e-02, 9.00380090e-02],\n",
              "       [7.08132610e-03, 9.48246539e-01, 4.46721204e-02],\n",
              "       [5.19707333e-03, 3.95940393e-01, 5.98862469e-01],\n",
              "       [3.58017497e-02, 4.19837177e-01, 5.44361115e-01],\n",
              "       [2.02068780e-03, 9.92156625e-01, 5.82267251e-03],\n",
              "       [9.63013232e-01, 1.98046099e-02, 1.71821266e-02],\n",
              "       [1.34380942e-03, 7.17626810e-01, 2.81029373e-01],\n",
              "       [7.37743750e-02, 8.73375386e-02, 8.38888049e-01],\n",
              "       [3.45506729e-03, 9.53545868e-01, 4.29990664e-02],\n",
              "       [1.80125684e-01, 5.61955214e-01, 2.57919103e-01],\n",
              "       [7.10239559e-02, 3.45613271e-01, 5.83362758e-01],\n",
              "       [1.33331828e-02, 6.80528045e-01, 3.06138784e-01],\n",
              "       [4.44233753e-02, 4.50240314e-01, 5.05336225e-01],\n",
              "       [3.39217440e-05, 4.53351793e-04, 9.99512672e-01],\n",
              "       [6.08243818e-06, 2.13345536e-03, 9.97860491e-01],\n",
              "       [7.63455313e-03, 9.83185351e-01, 9.18004010e-03],\n",
              "       [4.79593277e-01, 2.53623694e-01, 2.66783059e-01],\n",
              "       [2.26235371e-02, 2.35883729e-03, 9.75017607e-01],\n",
              "       [1.87990870e-02, 1.89268038e-01, 7.91932821e-01],\n",
              "       [1.47934640e-02, 9.34901237e-01, 5.03052212e-02],\n",
              "       [6.56365037e-01, 1.59545839e-02, 3.27680349e-01],\n",
              "       [1.91394128e-02, 3.69757861e-01, 6.11102819e-01],\n",
              "       [2.40413053e-03, 9.88774538e-01, 8.82141106e-03],\n",
              "       [4.70350236e-02, 7.52362728e-01, 2.00602263e-01],\n",
              "       [1.68770537e-01, 4.79688257e-01, 3.51541162e-01],\n",
              "       [4.56043221e-02, 3.71838272e-01, 5.82557380e-01]], dtype=float32)"
            ]
          },
          "metadata": {
            "tags": []
          },
          "execution_count": 64
        }
      ]
    },
    {
      "cell_type": "code",
      "metadata": {
        "id": "6TnW0PfUcifc",
        "colab_type": "code",
        "colab": {}
      },
      "source": [
        "# whichever has highest probability we will consider that car as an output.\n",
        "ypred = np.argmax(ypred,axis=1)"
      ],
      "execution_count": 65,
      "outputs": []
    },
    {
      "cell_type": "code",
      "metadata": {
        "id": "SNjKEHp6dBU7",
        "colab_type": "code",
        "colab": {
          "base_uri": "https://localhost:8080/",
          "height": 67
        },
        "outputId": "d763892f-5aeb-4892-9357-0214c0bbd357"
      },
      "source": [
        "ypred"
      ],
      "execution_count": 66,
      "outputs": [
        {
          "output_type": "execute_result",
          "data": {
            "text/plain": [
              "array([2, 1, 1, 2, 0, 1, 2, 2, 1, 1, 2, 1, 2, 0, 2, 2, 1, 2, 0, 2, 2, 2,\n",
              "       1, 0, 1, 1, 2, 1, 1, 1, 1, 1, 0, 1, 2, 2, 1, 0, 1, 2, 1, 1, 2, 1,\n",
              "       2, 2, 2, 1, 0, 2, 2, 1, 0, 2, 1, 1, 1, 2])"
            ]
          },
          "metadata": {
            "tags": []
          },
          "execution_count": 66
        }
      ]
    },
    {
      "cell_type": "code",
      "metadata": {
        "id": "4D_0V54sdDMO",
        "colab_type": "code",
        "colab": {}
      },
      "source": [
        "from tensorflow.keras.models import load_model\n",
        "from tensorflow.keras.preprocessing import image"
      ],
      "execution_count": 69,
      "outputs": []
    },
    {
      "cell_type": "code",
      "metadata": {
        "id": "_auYQHl_dTGL",
        "colab_type": "code",
        "colab": {}
      },
      "source": [
        "model = load_model('model_rasnet50.h5')"
      ],
      "execution_count": 70,
      "outputs": []
    },
    {
      "cell_type": "code",
      "metadata": {
        "id": "vLQh2HWBdm-e",
        "colab_type": "code",
        "colab": {}
      },
      "source": [
        "img = image.load_img('/content/drive/My Drive/Datasets/Test/audi/23.jpg',target_size=(224,224))"
      ],
      "execution_count": 72,
      "outputs": []
    },
    {
      "cell_type": "code",
      "metadata": {
        "id": "McyOqdx_dqr_",
        "colab_type": "code",
        "colab": {
          "base_uri": "https://localhost:8080/",
          "height": 840
        },
        "outputId": "6244e010-eefb-4564-8d09-51a4ff0ae8c2"
      },
      "source": [
        "x = image.img_to_array(img)\n",
        "x"
      ],
      "execution_count": 74,
      "outputs": [
        {
          "output_type": "execute_result",
          "data": {
            "text/plain": [
              "array([[[171., 171., 171.],\n",
              "        [173., 173., 173.],\n",
              "        [180., 180., 180.],\n",
              "        ...,\n",
              "        [178., 181., 186.],\n",
              "        [151., 154., 159.],\n",
              "        [137., 140., 145.]],\n",
              "\n",
              "       [[179., 179., 179.],\n",
              "        [182., 182., 182.],\n",
              "        [189., 189., 189.],\n",
              "        ...,\n",
              "        [201., 204., 209.],\n",
              "        [169., 172., 177.],\n",
              "        [145., 148., 153.]],\n",
              "\n",
              "       [[191., 191., 191.],\n",
              "        [194., 194., 194.],\n",
              "        [200., 200., 200.],\n",
              "        ...,\n",
              "        [205., 208., 213.],\n",
              "        [171., 174., 179.],\n",
              "        [146., 149., 154.]],\n",
              "\n",
              "       ...,\n",
              "\n",
              "       [[218., 206., 208.],\n",
              "        [216., 204., 206.],\n",
              "        [211., 199., 201.],\n",
              "        ...,\n",
              "        [112., 103.,  96.],\n",
              "        [109., 100.,  93.],\n",
              "        [109., 100.,  93.]],\n",
              "\n",
              "       [[220., 208., 210.],\n",
              "        [218., 206., 208.],\n",
              "        [212., 200., 202.],\n",
              "        ...,\n",
              "        [116., 107., 100.],\n",
              "        [114., 105.,  98.],\n",
              "        [114., 105.,  98.]],\n",
              "\n",
              "       [[220., 211., 212.],\n",
              "        [218., 209., 210.],\n",
              "        [211., 202., 203.],\n",
              "        ...,\n",
              "        [118., 109., 102.],\n",
              "        [120., 111., 104.],\n",
              "        [120., 111., 104.]]], dtype=float32)"
            ]
          },
          "metadata": {
            "tags": []
          },
          "execution_count": 74
        }
      ]
    },
    {
      "cell_type": "code",
      "metadata": {
        "id": "Spj9t01GewwT",
        "colab_type": "code",
        "colab": {
          "base_uri": "https://localhost:8080/",
          "height": 34
        },
        "outputId": "6671ef6e-d15f-460d-dd87-fdc492f6237c"
      },
      "source": [
        "x.shape"
      ],
      "execution_count": 75,
      "outputs": [
        {
          "output_type": "execute_result",
          "data": {
            "text/plain": [
              "(224, 224, 3)"
            ]
          },
          "metadata": {
            "tags": []
          },
          "execution_count": 75
        }
      ]
    },
    {
      "cell_type": "code",
      "metadata": {
        "id": "BB32fuSFfRsE",
        "colab_type": "code",
        "colab": {
          "base_uri": "https://localhost:8080/",
          "height": 840
        },
        "outputId": "801315a2-8edc-4829-c5b1-314aefe5306e"
      },
      "source": [
        "#scaling the image\n",
        "x = x/255\n",
        "x"
      ],
      "execution_count": 77,
      "outputs": [
        {
          "output_type": "execute_result",
          "data": {
            "text/plain": [
              "array([[[0.00262976, 0.00262976, 0.00262976],\n",
              "        [0.00266052, 0.00266052, 0.00266052],\n",
              "        [0.00276817, 0.00276817, 0.00276817],\n",
              "        ...,\n",
              "        [0.00273741, 0.00278354, 0.00286044],\n",
              "        [0.00232218, 0.00236832, 0.00244521],\n",
              "        [0.00210688, 0.00215302, 0.00222991]],\n",
              "\n",
              "       [[0.00275279, 0.00275279, 0.00275279],\n",
              "        [0.00279892, 0.00279892, 0.00279892],\n",
              "        [0.00290657, 0.00290657, 0.00290657],\n",
              "        ...,\n",
              "        [0.00309112, 0.00313725, 0.00321415],\n",
              "        [0.002599  , 0.00264514, 0.00272203],\n",
              "        [0.00222991, 0.00227605, 0.00235294]],\n",
              "\n",
              "       [[0.00293733, 0.00293733, 0.00293733],\n",
              "        [0.00298347, 0.00298347, 0.00298347],\n",
              "        [0.00307574, 0.00307574, 0.00307574],\n",
              "        ...,\n",
              "        [0.00315263, 0.00319877, 0.00327566],\n",
              "        [0.00262976, 0.00267589, 0.00275279],\n",
              "        [0.00224529, 0.00229143, 0.00236832]],\n",
              "\n",
              "       ...,\n",
              "\n",
              "       [[0.00335256, 0.00316801, 0.00319877],\n",
              "        [0.0033218 , 0.00313725, 0.00316801],\n",
              "        [0.00324491, 0.00306036, 0.00309112],\n",
              "        ...,\n",
              "        [0.00172241, 0.00158401, 0.00147636],\n",
              "        [0.00167628, 0.00153787, 0.00143022],\n",
              "        [0.00167628, 0.00153787, 0.00143022]],\n",
              "\n",
              "       [[0.00338331, 0.00319877, 0.00322953],\n",
              "        [0.00335256, 0.00316801, 0.00319877],\n",
              "        [0.00326028, 0.00307574, 0.0031065 ],\n",
              "        ...,\n",
              "        [0.00178393, 0.00164552, 0.00153787],\n",
              "        [0.00175317, 0.00161476, 0.00150711],\n",
              "        [0.00175317, 0.00161476, 0.00150711]],\n",
              "\n",
              "       [[0.00338331, 0.00324491, 0.00326028],\n",
              "        [0.00335256, 0.00321415, 0.00322953],\n",
              "        [0.00324491, 0.0031065 , 0.00312188],\n",
              "        ...,\n",
              "        [0.00181469, 0.00167628, 0.00156863],\n",
              "        [0.00184544, 0.00170704, 0.00159938],\n",
              "        [0.00184544, 0.00170704, 0.00159938]]], dtype=float32)"
            ]
          },
          "metadata": {
            "tags": []
          },
          "execution_count": 77
        }
      ]
    },
    {
      "cell_type": "code",
      "metadata": {
        "id": "FarXkDTRfYnt",
        "colab_type": "code",
        "colab": {
          "base_uri": "https://localhost:8080/",
          "height": 34
        },
        "outputId": "73a124ec-901d-4505-8303-3a4be85a58bf"
      },
      "source": [
        "#expanding the dimensions\n",
        "x = np.expand_dims(x,axis=0)\n",
        "img_data = preprocess_input(x)\n",
        "img_data.shape"
      ],
      "execution_count": 78,
      "outputs": [
        {
          "output_type": "execute_result",
          "data": {
            "text/plain": [
              "(1, 224, 224, 3)"
            ]
          },
          "metadata": {
            "tags": []
          },
          "execution_count": 78
        }
      ]
    },
    {
      "cell_type": "code",
      "metadata": {
        "id": "v7_u2Lkmfxxm",
        "colab_type": "code",
        "colab": {
          "base_uri": "https://localhost:8080/",
          "height": 34
        },
        "outputId": "89c3b61d-59c9-4168-e79a-8b2582cf9615"
      },
      "source": [
        "model.predict(img_data)"
      ],
      "execution_count": 79,
      "outputs": [
        {
          "output_type": "execute_result",
          "data": {
            "text/plain": [
              "array([[0.01121341, 0.12129888, 0.8674877 ]], dtype=float32)"
            ]
          },
          "metadata": {
            "tags": []
          },
          "execution_count": 79
        }
      ]
    },
    {
      "cell_type": "code",
      "metadata": {
        "id": "gnM6KqTkf1l8",
        "colab_type": "code",
        "colab": {}
      },
      "source": [
        "a = np.argmax(model.predict(img_data), axis=1)"
      ],
      "execution_count": 80,
      "outputs": []
    },
    {
      "cell_type": "code",
      "metadata": {
        "id": "4Oz_mzNPgFMW",
        "colab_type": "code",
        "colab": {
          "base_uri": "https://localhost:8080/",
          "height": 34
        },
        "outputId": "4e1c86bc-30ba-40c3-ac93-2d6122f40eda"
      },
      "source": [
        "if a==1:\n",
        "  print ('this is audi')\n",
        "elif a==2:\n",
        "  print ('this is lamborgini')\n",
        "else:\n",
        "  print ('this is mercedes')"
      ],
      "execution_count": 90,
      "outputs": [
        {
          "output_type": "stream",
          "text": [
            "this is lamborgini\n"
          ],
          "name": "stdout"
        }
      ]
    },
    {
      "cell_type": "code",
      "metadata": {
        "id": "slClNznVgMx8",
        "colab_type": "code",
        "colab": {}
      },
      "source": [
        ""
      ],
      "execution_count": null,
      "outputs": []
    }
  ]
}